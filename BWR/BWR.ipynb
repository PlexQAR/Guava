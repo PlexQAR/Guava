{
 "cells": [
  {
   "cell_type": "markdown",
   "metadata": {},
   "source": [
    "# A BWR geometry \n",
    "This notebook can be used as a template for modeling BWR reactors."
   ]
  },
  {
   "cell_type": "code",
   "execution_count": 24,
   "metadata": {
    "id": "EChOeJ7qVUB7"
   },
   "outputs": [],
   "source": [
    "%matplotlib inline\n",
    "import openmc\n",
    "import os\n",
    "\n",
    "from dotenv import load_dotenv\n",
    "\n",
    "load_dotenv()\n",
    "\n",
    "CROSS_SECTIONS = os.getenv('CROSS_SECTIONS')\n",
    "CHAIN_FILE = os.getenv('CHAIN_FILE')\n",
    "\n",
    "openmc.config['cross_sections'] = CROSS_SECTIONS\n",
    "openmc.config['chain_file'] = CHAIN_FILE"
   ]
  },
  {
   "cell_type": "code",
   "execution_count": 25,
   "metadata": {
    "id": "-0xO897aWbft"
   },
   "outputs": [],
   "source": [
    "# Materials definitions\n",
    "\n",
    "uo2 = openmc.Material(name='UO2')\n",
    "uo2.add_element('U', 1.0, enrichment=1.5)\n",
    "uo2.add_element('O', 2.0)\n",
    "uo2.set_density('g/cc', 10.0)\n",
    "\n",
    "zircaloy = openmc.Material(name='Zircaloy')\n",
    "zircaloy.set_density('g/cm3', 6.55)\n",
    "zircaloy.add_nuclide('Zr90', 7.2758e-3)\n",
    "\n",
    "steel = openmc.Material(name='Stainless Steel')\n",
    "steel.set_density('g/cm3', 8.00)\n",
    "steel.add_element('C', 0.08, percent_type='wo')\n",
    "steel.add_element('Si', 1.00, percent_type='wo')\n",
    "steel.add_element('Mn', 2.00, percent_type='wo')\n",
    "steel.add_element('P', 0.045, percent_type='wo')\n",
    "steel.add_element('S', 0.030, percent_type='wo')\n",
    "steel.add_element('Cr', 20.0, percent_type='wo')\n",
    "steel.add_element('Ni', 11.0, percent_type='wo')\n",
    "steel.add_element('Fe', 65.845, percent_type='wo')\n",
    "\n",
    "water = openmc.Material(name='Water')\n",
    "water.set_density('g/cm3', 0.76)\n",
    "water.add_element('H', 2)\n",
    "water.add_element('O', 1)\n",
    "water.add_s_alpha_beta('c_H_in_H2O')\n",
    "\n",
    "# Instantiate a Materials collection and export to xml\n",
    "materials_file = openmc.Materials([uo2, water, zircaloy, steel])\n",
    "materials_file.export_to_xml()"
   ]
  },
  {
   "cell_type": "code",
   "execution_count": 26,
   "metadata": {},
   "outputs": [],
   "source": [
    "# Geometry definitions"
   ]
  },
  {
   "cell_type": "code",
   "execution_count": 27,
   "metadata": {
    "id": "J90KA6zdol04"
   },
   "outputs": [],
   "source": [
    "bottom = openmc.ZPlane(z0=-1.0, boundary_type = 'reflective')\n",
    "top = openmc.ZPlane(z0=1.0, boundary_type = 'reflective')"
   ]
  },
  {
   "cell_type": "code",
   "execution_count": 28,
   "metadata": {
    "id": "7UFi6yivaxDS"
   },
   "outputs": [],
   "source": [
    "pitch = 1.6256\n",
    "\n",
    "# Create the x and y planes that define the boundaries of the square\n",
    "x_min = openmc.XPlane(x0=-pitch / 2)\n",
    "x_max = openmc.XPlane(x0=pitch / 2)\n",
    "y_min = openmc.YPlane(y0=-pitch / 2)\n",
    "y_max = openmc.YPlane(y0=pitch / 2)\n",
    "\n",
    "# Create a region from the intersection of the planes\n",
    "pin_cell_box = +x_min & -x_max & +y_min & -y_max "
   ]
  },
  {
   "cell_type": "code",
   "execution_count": 29,
   "metadata": {},
   "outputs": [],
   "source": [
    "# Geometry definitions for the fuel rod\n",
    "\n",
    "fuel_or  = openmc.ZCylinder(r=1.0414/2, name='Fuel OR')\n",
    "fclad_ir = openmc.ZCylinder(r=1.06426/2, name='Clad IR')\n",
    "fclad_or = openmc.ZCylinder(r=1.22682/2, name='Clad OR')\n",
    "\n",
    "fuel_region = -fuel_or \n",
    "gap_region  = +fuel_or & -fclad_ir\n",
    "fclad_region  = +fclad_ir & -fclad_or\n",
    "fwater_region = pin_cell_box & +fclad_or\n",
    "\n",
    "fuel_cell = openmc.Cell(name='fuel')\n",
    "fuel_cell.fill = uo2\n",
    "fuel_cell.region = fuel_region \n",
    "\n",
    "gap_cell = openmc.Cell(name='air gap')\n",
    "gap_cell.region = gap_region\n",
    "\n",
    "clad_cell = openmc.Cell(name='clad')\n",
    "clad_cell.fill = zircaloy\n",
    "clad_cell.region = fclad_region\n",
    "\n",
    "fwater_cell = openmc.Cell(name='fwater')\n",
    "fwater_cell.fill = water\n",
    "fwater_cell.region = fwater_region\n",
    "\n",
    "fuel_pin_universe = openmc.Universe(cells=[fuel_cell, gap_cell, clad_cell, fwater_cell])"
   ]
  },
  {
   "cell_type": "code",
   "execution_count": 30,
   "metadata": {},
   "outputs": [
    {
     "data": {
      "text/plain": [
       "<Axes: xlabel='x [cm]', ylabel='y [cm]'>"
      ]
     },
     "execution_count": 30,
     "metadata": {},
     "output_type": "execute_result"
    },
    {
     "data": {
      "image/png": "[encoded data removed]",
      "text/plain": [
       "<Figure size 258.065x259.74 with 1 Axes>"
      ]
     },
     "metadata": {},
     "output_type": "display_data"
    }
   ],
   "source": [
    "fuel_pin_universe.plot(width=(2.5, 2.5), colors = {fuel_cell: 'orange', gap_cell: 'white', clad_cell: 'grey', fwater_cell: 'blue'})"
   ]
  },
  {
   "cell_type": "code",
   "execution_count": 31,
   "metadata": {},
   "outputs": [],
   "source": [
    "# Geometry definitions for the water rod\n",
    "\n",
    "water_or = openmc.ZCylinder(r=1.34874/2)\n",
    "wclad_or = openmc.ZCylinder(r=1.50114/2)\n",
    "\n",
    "wwater_inner_region = -water_or\n",
    "wclad_region = -wclad_or & +water_or \n",
    "wwater_outer_region = pin_cell_box & +wclad_or\n",
    "\n",
    "wwater_inner_cell = openmc.Cell(name='wwater_inner')\n",
    "wwater_inner_cell.region = wwater_inner_region\n",
    "wwater_inner_cell.fill = water\n",
    "\n",
    "wclad_cell = openmc.Cell(name='wclad')\n",
    "wclad_cell.fill = zircaloy\n",
    "wclad_cell.region = wclad_region \n",
    "\n",
    "wwater_outer_cell = openmc.Cell(name='wwater_outer')\n",
    "wwater_outer_cell.fill = water\n",
    "wwater_outer_cell.region = wwater_outer_region\n",
    "\n",
    "water_pin_universe = openmc.Universe(cells=[wwater_inner_cell, wclad_cell, wwater_outer_cell])"
   ]
  },
  {
   "cell_type": "code",
   "execution_count": 32,
   "metadata": {
    "colab": {
     "base_uri": "https://localhost:8080/",
     "height": 282
    },
    "id": "FklxPQ-1xvNs",
    "outputId": "9e4cb490-0ba5-4838-9f47-0442493b9f6d"
   },
   "outputs": [],
   "source": [
    "# Geometry definitions for the corner rod\n",
    "\n",
    "corner_fuel_or = openmc.ZCylinder(r=1.0414/2, name = 'Corner Cell: Fuel OR')\n",
    "corner_clad_ir = openmc.ZCylinder(r=1.06426/2, name = 'Corner Cell: Clad IR')\n",
    "corner_clad_or = openmc.ZCylinder(r=1.22682/2, name = 'Corner Cell: Clad OR')\n",
    "\n",
    "corner_fuel_cell = openmc.Cell(name='fuel')\n",
    "corner_fuel_cell.fill = uo2\n",
    "corner_fuel_cell.region = -corner_fuel_or \n",
    "\n",
    "corner_gap_cell = openmc.Cell(name='air gap')\n",
    "corner_gap_cell.region = -corner_clad_ir & +corner_fuel_or\n",
    "\n",
    "corner_clad_cell = openmc.Cell(name='clad')\n",
    "corner_clad_cell.fill = zircaloy\n",
    "corner_clad_cell.region = +corner_clad_ir & -corner_clad_or"
   ]
  },
  {
   "cell_type": "code",
   "execution_count": 33,
   "metadata": {},
   "outputs": [],
   "source": [
    "# Defining an Assembly"
   ]
  },
  {
   "cell_type": "code",
   "execution_count": 34,
   "metadata": {},
   "outputs": [],
   "source": [
    "margin = 1e-8\n",
    "sleave_thickness = 0.2032\n",
    "sleave_inner_radius = 0.9652 + margin"
   ]
  },
  {
   "cell_type": "code",
   "execution_count": 35,
   "metadata": {
    "colab": {
     "base_uri": "https://localhost:8080/",
     "height": 282
    },
    "id": "FklxPQ-1xvNs",
    "outputId": "9e4cb490-0ba5-4838-9f47-0442493b9f6d"
   },
   "outputs": [],
   "source": [
    "ur_corner_fuel_or = openmc.ZCylinder(r=1.0414/2, name='ur Corner Cell: Fuel OR')\n",
    "ur_corner_clad_ir = openmc.ZCylinder(r=1.06426/2, name='ur Corner Cell: Clad IR')\n",
    "ur_corner_clad_or = openmc.ZCylinder(r=1.22682/2, name='ur Corner Cell: Clad OR')\n",
    "\n",
    "ur_corner_fuel_cell = openmc.Cell(name='ur fuel')\n",
    "ur_corner_fuel_cell.fill = uo2\n",
    "ur_corner_fuel_cell.region = -ur_corner_fuel_or \n",
    "\n",
    "ur_corner_gap_cell = openmc.Cell(name='ul air gap')\n",
    "ur_corner_gap_cell.region = -ur_corner_clad_ir & +ur_corner_fuel_or\n",
    "\n",
    "ur_corner_clad_cell = openmc.Cell(name='ul clad')\n",
    "ur_corner_clad_cell.fill = zircaloy\n",
    "ur_corner_clad_cell.region = +ur_corner_clad_ir & -ur_corner_clad_or\n",
    "\n",
    "ur_sleave_ir = openmc.ZCylinder(x0=pitch/2-sleave_inner_radius-margin, y0=pitch/2-sleave_inner_radius+margin, r=sleave_inner_radius)\n",
    "ur_sleave_or = openmc.ZCylinder(x0=pitch/2-sleave_inner_radius-margin, y0=pitch/2-sleave_inner_radius+margin, r=sleave_inner_radius+sleave_thickness)\n",
    "\n",
    "ur_sleave_hor_bound = openmc.XPlane(x0=pitch/2 - sleave_inner_radius - margin)\n",
    "ur_sleave_ver_bound = openmc.YPlane(y0=pitch/2 - sleave_inner_radius + margin)\n",
    "\n",
    "ur_sleave_cell = openmc.Cell(name='ur sleave cell')\n",
    "ur_sleave_cell.region = -ur_sleave_or & +ur_sleave_ir & +ur_sleave_hor_bound & +ur_sleave_ver_bound & pin_cell_box\n",
    "ur_sleave_cell.fill = zircaloy\n",
    "\n",
    "ur_sleave_water_cell = openmc.Cell(name = 'ur sleave water')\n",
    "ur_sleave_water_cell.region = pin_cell_box & +ur_sleave_hor_bound & +ur_sleave_ver_bound & +ur_sleave_or\n",
    "ur_sleave_water_cell.fill = water\n",
    "\n",
    "ur_sleave_ver_water_cell = openmc.Cell(name='ur vertically-equivalent sleave water')\n",
    "ur_sleave_ver_water_cell.region = pin_cell_box & -ur_sleave_hor_bound & +ur_sleave_ver_bound & +ur_sleave_ir\n",
    "ur_sleave_ver_water_cell.fill = water \n",
    "\n",
    "ur_opposite_water_cell = openmc.Cell(name='ur opposite water')\n",
    "ur_opposite_water_cell.region = pin_cell_box & -ur_sleave_hor_bound & -ur_sleave_ver_bound & +ur_sleave_ir\n",
    "ur_opposite_water_cell.fill = water \n",
    "\n",
    "ur_sleave_hor_water_cell = openmc.Cell(name='ur horizontally-equivalent sleave water')\n",
    "ur_sleave_hor_water_cell.region = pin_cell_box & +ur_sleave_hor_bound & -ur_sleave_ver_bound & +ur_sleave_ir\n",
    "ur_sleave_hor_water_cell.fill = water \n",
    "\n",
    "ur_inner_water_cell = openmc.Cell(name='ur inner water cell')\n",
    "ur_inner_water_cell.region = pin_cell_box & -ur_sleave_ir & +ur_corner_clad_or\n",
    "ur_inner_water_cell.fill = water\n",
    "\n",
    "ur_corner_pin_universe = openmc.Universe(cells=[ur_corner_fuel_cell, ur_corner_gap_cell, ur_corner_clad_cell, ur_sleave_cell, ur_inner_water_cell, ur_sleave_water_cell, ur_sleave_ver_water_cell, ur_opposite_water_cell, ur_sleave_hor_water_cell])"
   ]
  },
  {
   "cell_type": "code",
   "execution_count": 36,
   "metadata": {},
   "outputs": [
    {
     "data": {
      "text/plain": [
       "<Axes: xlabel='x [cm]', ylabel='y [cm]'>"
      ]
     },
     "execution_count": 36,
     "metadata": {},
     "output_type": "execute_result"
    },
    {
     "data": {
      "image/png": "[encoded data removed]",
      "text/plain": [
       "<Figure size 258.065x259.74 with 1 Axes>"
      ]
     },
     "metadata": {},
     "output_type": "display_data"
    }
   ],
   "source": [
    "ur_corner_pin_universe.plot(width=(2.5, 2.5), basis = 'xy', colors = {ur_corner_fuel_cell: 'orange', ur_corner_gap_cell: 'white', ur_corner_clad_cell: 'grey', ur_sleave_cell:'brown', ur_inner_water_cell: 'blue', ur_sleave_water_cell: 'blue', ur_sleave_ver_water_cell: 'blue', ur_opposite_water_cell: 'blue', ur_sleave_hor_water_cell: 'blue'})"
   ]
  },
  {
   "cell_type": "code",
   "execution_count": 37,
   "metadata": {
    "scrolled": true
   },
   "outputs": [],
   "source": [
    "ul_corner_fuel_or = openmc.ZCylinder(r=(1.0414/2), name='ul Corner Cell: Fuel OR')\n",
    "ul_corner_clad_ir = openmc.ZCylinder(r=(1.06426/2), name='ul Corner Cell: Clad IR')\n",
    "ul_corner_clad_or = openmc.ZCylinder(r=(1.22682/2), name='ul Corner Cell: Clad OR')\n",
    "\n",
    "ul_corner_fuel_cell = openmc.Cell(name='ul fuel')\n",
    "ul_corner_fuel_cell.fill = uo2\n",
    "ul_corner_fuel_cell.region = -ul_corner_fuel_or \n",
    "\n",
    "ul_corner_gap_cell = openmc.Cell(name='ul air gap')\n",
    "ul_corner_gap_cell.region = -ul_corner_clad_ir & +ul_corner_fuel_or\n",
    "\n",
    "ul_corner_clad_cell = openmc.Cell(name='ul clad')\n",
    "ul_corner_clad_cell.fill = zircaloy\n",
    "ul_corner_clad_cell.region = +ul_corner_clad_ir & -ul_corner_clad_or\n",
    "\n",
    "ul_sleave_ir = openmc.ZCylinder(x0=-pitch/2+sleave_inner_radius+margin, y0=pitch/2-sleave_inner_radius+margin, r=sleave_inner_radius) #Shouldn't have margin\n",
    "ul_sleave_or = openmc.ZCylinder(x0=-pitch/2+sleave_inner_radius+margin, y0=pitch/2-sleave_inner_radius+margin, r=sleave_inner_radius + sleave_thickness)\n",
    "\n",
    "ul_sleave_hor_bound = openmc.XPlane(x0=-pitch/2+sleave_inner_radius+margin)\n",
    "ul_sleave_ver_bound = openmc.YPlane(y0=pitch/2-sleave_inner_radius+margin)\n",
    "\n",
    "ul_sleave_cell = openmc.Cell(name='ul sleave cell')\n",
    "ul_sleave_cell.region = -ul_sleave_or & +ul_sleave_ir & -ul_sleave_hor_bound & +ul_sleave_ver_bound & pin_cell_box\n",
    "ul_sleave_cell.fill = zircaloy\n",
    "\n",
    "ul_sleave_water_cell = openmc.Cell(name='ul sleave water')\n",
    "ul_sleave_water_cell.region = pin_cell_box & -ul_sleave_hor_bound & +ul_sleave_ver_bound & +ul_sleave_or\n",
    "ul_sleave_water_cell.fill = water\n",
    "\n",
    "ul_sleave_ver_water_cell = openmc.Cell(name='ul vertically-equivalent sleave water')\n",
    "ul_sleave_ver_water_cell.region = pin_cell_box & +ul_sleave_hor_bound & +ul_sleave_ver_bound & +ul_sleave_ir\n",
    "ul_sleave_ver_water_cell.fill = water \n",
    "\n",
    "ul_opposite_water_cell = openmc.Cell(name='ul opposite water')\n",
    "ul_opposite_water_cell.region = pin_cell_box & +ul_sleave_hor_bound & -ul_sleave_ver_bound & +ul_sleave_ir\n",
    "ul_opposite_water_cell.fill = water \n",
    "\n",
    "ul_sleave_hor_water_cell = openmc.Cell(name='ul horizontally-equivalent sleave water')\n",
    "ul_sleave_hor_water_cell.region = pin_cell_box & -ul_sleave_hor_bound & -ul_sleave_ver_bound & +ul_sleave_ir\n",
    "ul_sleave_hor_water_cell.fill = water \n",
    "\n",
    "ul_inner_water_cell = openmc.Cell(name='ul inner water cell')\n",
    "ul_inner_water_cell.region = pin_cell_box & -ul_sleave_ir & +ul_corner_clad_or\n",
    "ul_inner_water_cell.fill = water\n",
    "\n",
    "ul_corner_pin_universe = openmc.Universe(cells=[ul_corner_fuel_cell, ul_corner_gap_cell, ul_corner_clad_cell, ul_sleave_cell, ul_inner_water_cell, ul_sleave_water_cell, ul_sleave_ver_water_cell, ul_opposite_water_cell, ul_sleave_hor_water_cell])"
   ]
  },
  {
   "cell_type": "code",
   "execution_count": 38,
   "metadata": {},
   "outputs": [
    {
     "data": {
      "text/plain": [
       "<Axes: xlabel='x [cm]', ylabel='y [cm]'>"
      ]
     },
     "execution_count": 38,
     "metadata": {},
     "output_type": "execute_result"
    },
    {
     "data": {
      "image/png": "[encoded data removed]",
      "text/plain": [
       "<Figure size 258.065x259.74 with 1 Axes>"
      ]
     },
     "metadata": {},
     "output_type": "display_data"
    }
   ],
   "source": [
    "ul_corner_pin_universe.plot(width=(2.5, 2.5), basis = 'xy', colors = {ul_corner_fuel_cell: 'orange', ul_corner_gap_cell: 'white', ul_corner_clad_cell: 'grey', ul_sleave_cell:'brown', ul_inner_water_cell: 'blue', ul_sleave_water_cell: 'blue', ul_sleave_ver_water_cell: 'blue', ul_opposite_water_cell: 'blue', ul_sleave_hor_water_cell: 'blue'})"
   ]
  },
  {
   "cell_type": "code",
   "execution_count": 39,
   "metadata": {},
   "outputs": [],
   "source": [
    "ll_corner_fuel_or = openmc.ZCylinder(r=1.0414/2, name='ll Corner Cell: Fuel OR')\n",
    "ll_corner_clad_ir = openmc.ZCylinder(r=1.06426/2, name='ll Corner Cell: Clad IR')\n",
    "ll_corner_clad_or = openmc.ZCylinder(r=1.22682/2, name='ll Corner Cell: Clad OR')\n",
    "\n",
    "ll_corner_fuel_cell = openmc.Cell(name='ll fuel')\n",
    "ll_corner_fuel_cell.fill = uo2\n",
    "ll_corner_fuel_cell.region = -ll_corner_fuel_or \n",
    "\n",
    "ll_corner_gap_cell = openmc.Cell(name='ll air gap')\n",
    "ll_corner_gap_cell.region = -ll_corner_clad_ir & +ll_corner_fuel_or\n",
    "\n",
    "ll_corner_clad_cell = openmc.Cell(name='ll clad')\n",
    "ll_corner_clad_cell.fill = zircaloy\n",
    "ll_corner_clad_cell.region = +ll_corner_clad_ir & -ll_corner_clad_or\n",
    "\n",
    "ll_sleave_ir = openmc.ZCylinder(x0=-pitch/2+sleave_inner_radius+margin, y0=-pitch/2+sleave_inner_radius-margin, r=sleave_inner_radius)\n",
    "ll_sleave_or = openmc.ZCylinder(x0=-pitch/2+sleave_inner_radius+margin, y0=-pitch/2+sleave_inner_radius-margin, r=sleave_inner_radius+sleave_thickness)\n",
    "\n",
    "ll_sleave_hor_bound = openmc.XPlane(x0=-pitch/2+sleave_inner_radius+margin)\n",
    "ll_sleave_ver_bound = openmc.YPlane(y0=-pitch/2+sleave_inner_radius-margin)\n",
    "\n",
    "ll_sleave_cell = openmc.Cell(name='ul sleave cell')\n",
    "ll_sleave_cell.region = -ll_sleave_or & +ll_sleave_ir & -ll_sleave_hor_bound & -ll_sleave_ver_bound & pin_cell_box\n",
    "ll_sleave_cell.fill = zircaloy\n",
    "\n",
    "ll_sleave_water_cell = openmc.Cell(name='ul sleave water')\n",
    "ll_sleave_water_cell.region = pin_cell_box & -ll_sleave_hor_bound & -ll_sleave_ver_bound & +ll_sleave_or\n",
    "ll_sleave_water_cell.fill = water\n",
    "\n",
    "ll_sleave_ver_water_cell = openmc.Cell(name='ul vertically-equivalent sleave water')\n",
    "ll_sleave_ver_water_cell.region = pin_cell_box & +ll_sleave_hor_bound & -ll_sleave_ver_bound & +ll_sleave_ir\n",
    "ll_sleave_ver_water_cell.fill = water \n",
    "\n",
    "ll_opposite_water_cell = openmc.Cell(name='ul opposite water')\n",
    "ll_opposite_water_cell.region = pin_cell_box & +ll_sleave_hor_bound & +ll_sleave_ver_bound & +ll_sleave_ir\n",
    "ll_opposite_water_cell.fill = water \n",
    "\n",
    "ll_sleave_hor_water_cell = openmc.Cell(name='ul horizontally-equivalent sleave water')\n",
    "ll_sleave_hor_water_cell.region = pin_cell_box & -ll_sleave_hor_bound & +ll_sleave_ver_bound & +ll_sleave_ir\n",
    "ll_sleave_hor_water_cell.fill = water \n",
    "\n",
    "ll_inner_water_cell = openmc.Cell(name='ul inner water cell')\n",
    "ll_inner_water_cell.region = pin_cell_box & -ll_sleave_ir & +ll_corner_clad_or\n",
    "ll_inner_water_cell.fill = water\n",
    "\n",
    "ll_corner_pin_universe = openmc.Universe(cells=[ll_corner_fuel_cell, ll_corner_gap_cell, ll_corner_clad_cell, ll_sleave_cell, ll_inner_water_cell, ll_sleave_water_cell, ll_sleave_ver_water_cell, ll_opposite_water_cell, ll_sleave_hor_water_cell])"
   ]
  },
  {
   "cell_type": "code",
   "execution_count": 40,
   "metadata": {},
   "outputs": [
    {
     "data": {
      "text/plain": [
       "<Axes: xlabel='x [cm]', ylabel='y [cm]'>"
      ]
     },
     "execution_count": 40,
     "metadata": {},
     "output_type": "execute_result"
    },
    {
     "data": {
      "image/png": "[encoded data removed]",
      "text/plain": [
       "<Figure size 258.065x259.74 with 1 Axes>"
      ]
     },
     "metadata": {},
     "output_type": "display_data"
    }
   ],
   "source": [
    "ll_corner_pin_universe.plot(width=(2.5, 2.5), basis = 'xy', colors = {ll_corner_fuel_cell: 'orange', ll_corner_gap_cell: 'white', ll_corner_clad_cell: 'grey', ll_sleave_cell:'brown', ll_inner_water_cell: 'blue', ll_sleave_water_cell: 'blue', ll_sleave_ver_water_cell: 'blue', ll_opposite_water_cell: 'blue', ll_sleave_hor_water_cell: 'blue'})"
   ]
  },
  {
   "cell_type": "code",
   "execution_count": 41,
   "metadata": {},
   "outputs": [],
   "source": [
    "lr_corner_fuel_or = openmc.ZCylinder(r=1.0414/2, name='lr Corner Cell: Fuel OR')\n",
    "lr_corner_clad_ir = openmc.ZCylinder(r=1.06426/2, name='lr Corner Cell: Clad IR')\n",
    "lr_corner_clad_or = openmc.ZCylinder(r=1.22682/2, name='lr Corner Cell: Clad OR')\n",
    "\n",
    "lr_corner_fuel_cell = openmc.Cell(name='lr fuel')\n",
    "lr_corner_fuel_cell.fill = uo2\n",
    "lr_corner_fuel_cell.region = -lr_corner_fuel_or \n",
    "\n",
    "lr_corner_gap_cell = openmc.Cell(name='lr air gap')\n",
    "lr_corner_gap_cell.region = -lr_corner_clad_ir & +lr_corner_fuel_or\n",
    "\n",
    "lr_corner_clad_cell = openmc.Cell(name='lr clad')\n",
    "lr_corner_clad_cell.fill = zircaloy\n",
    "lr_corner_clad_cell.region = +lr_corner_clad_ir & -lr_corner_clad_or\n",
    "\n",
    "lr_sleave_ir = openmc.ZCylinder(x0=pitch/2-sleave_inner_radius-margin, y0=-pitch/2+sleave_inner_radius-margin, r=sleave_inner_radius)\n",
    "lr_sleave_or = openmc.ZCylinder(x0=pitch/2-sleave_inner_radius-margin, y0=-pitch/2+sleave_inner_radius-margin, r=sleave_inner_radius+sleave_thickness)\n",
    "\n",
    "lr_sleave_hor_bound = openmc.XPlane(x0=pitch/2 - sleave_inner_radius - margin)\n",
    "lr_sleave_ver_bound = openmc.YPlane(y0=-pitch/2 + sleave_inner_radius - margin)\n",
    "\n",
    "lr_sleave_cell = openmc.Cell(name='ur sleave cell')\n",
    "lr_sleave_cell.region = -lr_sleave_or & +lr_sleave_ir & +lr_sleave_hor_bound & -lr_sleave_ver_bound & pin_cell_box\n",
    "lr_sleave_cell.fill = zircaloy\n",
    "\n",
    "lr_sleave_water_cell = openmc.Cell(name='ur sleave water')\n",
    "lr_sleave_water_cell.region = pin_cell_box & +lr_sleave_hor_bound & -lr_sleave_ver_bound & +lr_sleave_or\n",
    "lr_sleave_water_cell.fill = water\n",
    "\n",
    "lr_sleave_ver_water_cell = openmc.Cell(name='ur vertically-equivalent sleave water')\n",
    "lr_sleave_ver_water_cell.region = pin_cell_box & -lr_sleave_hor_bound & -lr_sleave_ver_bound & +lr_sleave_ir\n",
    "lr_sleave_ver_water_cell.fill = water \n",
    "\n",
    "lr_opposite_water_cell = openmc.Cell(name='ur opposite water')\n",
    "lr_opposite_water_cell.region = pin_cell_box & -lr_sleave_hor_bound & +lr_sleave_ver_bound & +lr_sleave_ir\n",
    "lr_opposite_water_cell.fill = water \n",
    "\n",
    "lr_sleave_hor_water_cell = openmc.Cell(name='ur horizontally-equivalent sleave water')\n",
    "lr_sleave_hor_water_cell.region = pin_cell_box & +lr_sleave_hor_bound & +lr_sleave_ver_bound & +lr_sleave_ir\n",
    "lr_sleave_hor_water_cell.fill = water \n",
    "\n",
    "lr_inner_water_cell = openmc.Cell(name='ur inner water cell')\n",
    "lr_inner_water_cell.region = pin_cell_box & -lr_sleave_ir & +lr_corner_clad_or\n",
    "lr_inner_water_cell.fill = water\n",
    "\n",
    "lr_corner_pin_universe = openmc.Universe(cells=[lr_corner_fuel_cell, lr_corner_gap_cell, lr_corner_clad_cell, lr_sleave_cell, lr_inner_water_cell, lr_sleave_water_cell, lr_sleave_ver_water_cell, lr_opposite_water_cell, lr_sleave_hor_water_cell])"
   ]
  },
  {
   "cell_type": "code",
   "execution_count": 42,
   "metadata": {},
   "outputs": [
    {
     "data": {
      "text/plain": [
       "<Axes: xlabel='x [cm]', ylabel='y [cm]'>"
      ]
     },
     "execution_count": 42,
     "metadata": {},
     "output_type": "execute_result"
    },
    {
     "data": {
      "image/png": "[encoded data removed]",
      "text/plain": [
       "<Figure size 258.065x259.74 with 1 Axes>"
      ]
     },
     "metadata": {},
     "output_type": "display_data"
    }
   ],
   "source": [
    "lr_corner_pin_universe.plot(width=(2.5, 2.5), basis = 'xy', colors = {lr_corner_fuel_cell: 'orange', lr_corner_gap_cell: 'white', lr_corner_clad_cell: 'grey', lr_sleave_cell:'brown', lr_inner_water_cell: 'blue', lr_sleave_water_cell: 'blue', lr_sleave_ver_water_cell: 'blue', lr_opposite_water_cell: 'blue', lr_sleave_hor_water_cell: 'blue'})"
   ]
  },
  {
   "cell_type": "code",
   "execution_count": 45,
   "metadata": {},
   "outputs": [],
   "source": [
    "import openmc\n",
    "\n",
    "# ... (previous code defining pitch, universes, etc.) ...\n",
    "\n",
    "quarter_pitch = pitch * 8\n",
    "\n",
    "assembly = openmc.RectLattice(name='Quarter Assembly')\n",
    "assembly.pitch = (pitch, pitch)\n",
    "assembly.lower_left = [-quarter_pitch/2, -quarter_pitch/2]\n",
    "\n",
    "assembly.universes = [\n",
    "                      [ul_corner_pin_universe, fuel_pin_universe, fuel_pin_universe, fuel_pin_universe, fuel_pin_universe, fuel_pin_universe, fuel_pin_universe, ur_corner_pin_universe],\n",
    "                      [fuel_pin_universe, fuel_pin_universe, fuel_pin_universe, fuel_pin_universe, fuel_pin_universe, fuel_pin_universe, fuel_pin_universe, fuel_pin_universe],\n",
    "                      [fuel_pin_universe, fuel_pin_universe, fuel_pin_universe, fuel_pin_universe, fuel_pin_universe, fuel_pin_universe, fuel_pin_universe, fuel_pin_universe],\n",
    "                      [fuel_pin_universe, fuel_pin_universe, fuel_pin_universe, water_pin_universe, fuel_pin_universe, fuel_pin_universe, fuel_pin_universe, fuel_pin_universe],\n",
    "                      [fuel_pin_universe, fuel_pin_universe, fuel_pin_universe, fuel_pin_universe, water_pin_universe, fuel_pin_universe, fuel_pin_universe, fuel_pin_universe],\n",
    "                      [fuel_pin_universe, fuel_pin_universe, fuel_pin_universe, fuel_pin_universe, fuel_pin_universe, fuel_pin_universe, fuel_pin_universe, fuel_pin_universe],\n",
    "                      [fuel_pin_universe, fuel_pin_universe, fuel_pin_universe, fuel_pin_universe, fuel_pin_universe, fuel_pin_universe, fuel_pin_universe, fuel_pin_universe],\n",
    "                      [ll_corner_pin_universe, fuel_pin_universe, fuel_pin_universe, fuel_pin_universe, fuel_pin_universe, fuel_pin_universe, fuel_pin_universe, lr_corner_pin_universe]\n",
    "]\n",
    "\n",
    "# Define x and y planes for assembly region\n",
    "x_min_assembly = openmc.XPlane(x0=-quarter_pitch / 2)\n",
    "x_max_assembly = openmc.XPlane(x0=quarter_pitch / 2)\n",
    "y_min_assembly = openmc.YPlane(y0=-quarter_pitch / 2)\n",
    "y_max_assembly = openmc.YPlane(y0=quarter_pitch / 2)\n",
    "\n",
    "# Create assembly region using planes\n",
    "assembly_region = +x_min_assembly & -x_max_assembly & +y_min_assembly & -y_max_assembly\n",
    "assembly_cell = openmc.Cell(name='quarter assembly cell', fill=assembly, region=assembly_region)\n",
    "\n",
    "# Define x and y planes for assembly sleeve with added thickness\n",
    "x_min_sleave = openmc.XPlane(x0=-(quarter_pitch + 2*sleave_thickness) / 2)\n",
    "x_max_sleave = openmc.XPlane(x0=(quarter_pitch + 2*sleave_thickness) / 2)\n",
    "y_min_sleave = openmc.YPlane(y0=-(quarter_pitch + 2*sleave_thickness) / 2)\n",
    "y_max_sleave = openmc.YPlane(y0=(quarter_pitch + 2*sleave_thickness) / 2)\n",
    "\n",
    "# Create assembly sleeve region using planes and exclude assembly region\n",
    "assembly_sleave = openmc.Cell(name='quarter assembly sleave')\n",
    "assembly_sleave.region = +x_min_sleave & -x_max_sleave & +y_min_sleave & -y_max_sleave & ~assembly_cell.region \n",
    "assembly_sleave.fill = zircaloy\n",
    "\n",
    "# Define x and y planes for outer water with added thickness and reflective boundary\n",
    "x_min_water = openmc.XPlane(x0=-(quarter_pitch + 2*sleave_thickness + 1) / 2, boundary_type='reflective')\n",
    "x_max_water = openmc.XPlane(x0=(quarter_pitch + 2*sleave_thickness + 1) / 2, boundary_type='reflective')\n",
    "y_min_water = openmc.YPlane(y0=-(quarter_pitch + 2*sleave_thickness + 1) / 2, boundary_type='reflective')\n",
    "y_max_water = openmc.YPlane(y0=(quarter_pitch + 2*sleave_thickness + 1) / 2, boundary_type='reflective')\n",
    "\n",
    "# Create outer water region using planes and exclude assembly and sleeve regions\n",
    "assembly_outer_water = openmc.Cell(name='assembly outer water')\n",
    "assembly_outer_water.region = +x_min_water & -x_max_water & +y_min_water & -y_max_water & ~assembly_sleave.region & ~assembly_cell.region\n",
    "assembly_outer_water.fill = water\n",
    "\n",
    "quarter_assembly_universe = openmc.Universe(cells=[assembly_cell, assembly_sleave, assembly_outer_water])"
   ]
  },
  {
   "cell_type": "code",
   "execution_count": 46,
   "metadata": {},
   "outputs": [
    {
     "data": {
      "text/plain": [
       "<Axes: xlabel='x [cm]', ylabel='y [cm]'>"
      ]
     },
     "execution_count": 46,
     "metadata": {},
     "output_type": "execute_result"
    },
    {
     "data": {
      "image/png": "[encoded data removed]",
      "text/plain": [
       "<Figure size 258.065x259.74 with 1 Axes>"
      ]
     },
     "metadata": {},
     "output_type": "display_data"
    }
   ],
   "source": [
    "quarter_assembly_universe.plot(width=(15,15), colors={assembly_outer_water: 'blue'})"
   ]
  },
  {
   "cell_type": "code",
   "execution_count": 47,
   "metadata": {},
   "outputs": [],
   "source": [
    "geom = openmc.Geometry(quarter_assembly_universe)\n",
    "geom.export_to_xml()"
   ]
  },
  {
   "cell_type": "code",
   "execution_count": 49,
   "metadata": {
    "colab": {
     "base_uri": "https://localhost:8080/"
    },
    "id": "JPOk4874OR3w",
    "outputId": "b15d56c2-f9a1-42c4-b06f-3e779a1953ec"
   },
   "outputs": [],
   "source": [
    "import openmc\n",
    "\n",
    "# OpenMC simulation parameters\n",
    "\n",
    "point = openmc.stats.Point((0, 0, 0))\n",
    "src = openmc.IndependentSource(space=point)  # Use IndependentSource\n",
    "settings = openmc.Settings()\n",
    "settings.source = src\n",
    "settings.batches = 100\n",
    "settings.inactive = 10\n",
    "settings.particles = 1000\n",
    "settings.export_to_xml()"
   ]
  },
  {
   "cell_type": "code",
   "execution_count": 50,
   "metadata": {
    "colab": {
     "base_uri": "https://localhost:8080/"
    },
    "id": "lkX_1LrAzw71",
    "outputId": "6331f2a0-42fc-4919-91d3-7bca6b5d735f"
   },
   "outputs": [
    {
     "name": "stdout",
     "output_type": "stream",
     "text": [
      "[MWLT-NITRO5LIN:20193] shmem: mmap: an error occurred while determining whether or not /tmp/ompi.MWLT-NITRO5LIN.1000/jf.0/1879703552/shared_mem_cuda_pool.MWLT-NITRO5LIN could be created.\n",
      "[MWLT-NITRO5LIN:20193] create_and_attach: unable to create shared memory BTL coordinating structure :: size 134217728 \n",
      "                                %%%%%%%%%%%%%%%\n",
      "                           %%%%%%%%%%%%%%%%%%%%%%%%\n",
      "                        %%%%%%%%%%%%%%%%%%%%%%%%%%%%%%\n",
      "                      %%%%%%%%%%%%%%%%%%%%%%%%%%%%%%%%%%\n",
      "                    %%%%%%%%%%%%%%%%%%%%%%%%%%%%%%%%%%%%%%\n",
      "                   %%%%%%%%%%%%%%%%%%%%%%%%%%%%%%%%%%%%%%%%\n",
      "                                    %%%%%%%%%%%%%%%%%%%%%%%%\n",
      "                                     %%%%%%%%%%%%%%%%%%%%%%%%\n",
      "                 ###############      %%%%%%%%%%%%%%%%%%%%%%%%\n",
      "                ##################     %%%%%%%%%%%%%%%%%%%%%%%\n",
      "                ###################     %%%%%%%%%%%%%%%%%%%%%%%\n",
      "                ####################     %%%%%%%%%%%%%%%%%%%%%%\n",
      "                #####################     %%%%%%%%%%%%%%%%%%%%%\n",
      "                ######################     %%%%%%%%%%%%%%%%%%%%\n",
      "                #######################     %%%%%%%%%%%%%%%%%%\n",
      "                 #######################     %%%%%%%%%%%%%%%%%\n",
      "                 ######################     %%%%%%%%%%%%%%%%%\n",
      "                  ####################     %%%%%%%%%%%%%%%%%\n",
      "                    #################     %%%%%%%%%%%%%%%%%\n",
      "                     ###############     %%%%%%%%%%%%%%%%\n",
      "                       ############     %%%%%%%%%%%%%%%\n",
      "                          ########     %%%%%%%%%%%%%%\n",
      "                                      %%%%%%%%%%%\n",
      "\n",
      "                 | The OpenMC Monte Carlo Code\n",
      "       Copyright | 2011-2024 MIT, UChicago Argonne LLC, and contributors\n",
      "         License | https://docs.openmc.org/en/latest/license.html\n",
      "         Version | 0.15.0\n",
      "        Git SHA1 | 84fb85977f46e162fea8f5a20ea653a3ec62ac24\n",
      "       Date/Time | 2024-11-02 12:05:47\n",
      "   MPI Processes | 1\n",
      "  OpenMP Threads | 8\n",
      "\n",
      " Reading settings XML file...\n",
      " Reading cross sections XML file...\n",
      " Reading materials XML file...\n",
      " Reading geometry XML file...\n",
      " Reading U234 from\n",
      " /home/maskedmatters/Documents/Code/TPR/libraries/endfb-viii.0-hdf5/neutron/U234.\n",
      " h5\n",
      " Reading U235 from\n",
      " /home/maskedmatters/Documents/Code/TPR/libraries/endfb-viii.0-hdf5/neutron/U235.\n",
      " h5\n",
      " Reading U238 from\n",
      " /home/maskedmatters/Documents/Code/TPR/libraries/endfb-viii.0-hdf5/neutron/U238.\n",
      " h5\n",
      " Reading U236 from\n",
      " /home/maskedmatters/Documents/Code/TPR/libraries/endfb-viii.0-hdf5/neutron/U236.\n",
      " h5\n",
      " Reading O16 from\n",
      " /home/maskedmatters/Documents/Code/TPR/libraries/endfb-viii.0-hdf5/neutron/O16.h\n",
      " 5\n",
      " Reading O17 from\n",
      " /home/maskedmatters/Documents/Code/TPR/libraries/endfb-viii.0-hdf5/neutron/O17.h\n",
      " 5\n",
      " Reading O18 from\n",
      " /home/maskedmatters/Documents/Code/TPR/libraries/endfb-viii.0-hdf5/neutron/O18.h\n",
      " 5\n",
      " Reading Zr90 from\n",
      " /home/maskedmatters/Documents/Code/TPR/libraries/endfb-viii.0-hdf5/neutron/Zr90.\n",
      " h5\n",
      " Reading C12 from\n",
      " /home/maskedmatters/Documents/Code/TPR/libraries/endfb-viii.0-hdf5/neutron/C12.h\n",
      " 5\n",
      " Reading C13 from\n",
      " /home/maskedmatters/Documents/Code/TPR/libraries/endfb-viii.0-hdf5/neutron/C13.h\n",
      " 5\n",
      " Reading Si28 from\n",
      " /home/maskedmatters/Documents/Code/TPR/libraries/endfb-viii.0-hdf5/neutron/Si28.\n",
      " h5\n",
      " Reading Si29 from\n",
      " /home/maskedmatters/Documents/Code/TPR/libraries/endfb-viii.0-hdf5/neutron/Si29.\n",
      " h5\n",
      " Reading Si30 from\n",
      " /home/maskedmatters/Documents/Code/TPR/libraries/endfb-viii.0-hdf5/neutron/Si30.\n",
      " h5\n",
      " Reading Mn55 from\n",
      " /home/maskedmatters/Documents/Code/TPR/libraries/endfb-viii.0-hdf5/neutron/Mn55.\n",
      " h5\n",
      " Reading P31 from\n",
      " /home/maskedmatters/Documents/Code/TPR/libraries/endfb-viii.0-hdf5/neutron/P31.h\n",
      " 5\n",
      " Reading S32 from\n",
      " /home/maskedmatters/Documents/Code/TPR/libraries/endfb-viii.0-hdf5/neutron/S32.h\n",
      " 5\n",
      " Reading S33 from\n",
      " /home/maskedmatters/Documents/Code/TPR/libraries/endfb-viii.0-hdf5/neutron/S33.h\n",
      " 5\n",
      " Reading S34 from\n",
      " /home/maskedmatters/Documents/Code/TPR/libraries/endfb-viii.0-hdf5/neutron/S34.h\n",
      " 5\n",
      " Reading S36 from\n",
      " /home/maskedmatters/Documents/Code/TPR/libraries/endfb-viii.0-hdf5/neutron/S36.h\n",
      " 5\n",
      " Reading Cr50 from\n",
      " /home/maskedmatters/Documents/Code/TPR/libraries/endfb-viii.0-hdf5/neutron/Cr50.\n",
      " h5\n",
      " Reading Cr52 from\n",
      " /home/maskedmatters/Documents/Code/TPR/libraries/endfb-viii.0-hdf5/neutron/Cr52.\n",
      " h5\n",
      " Reading Cr53 from\n",
      " /home/maskedmatters/Documents/Code/TPR/libraries/endfb-viii.0-hdf5/neutron/Cr53.\n",
      " h5\n",
      " Reading Cr54 from\n",
      " /home/maskedmatters/Documents/Code/TPR/libraries/endfb-viii.0-hdf5/neutron/Cr54.\n",
      " h5\n",
      " Reading Ni58 from\n",
      " /home/maskedmatters/Documents/Code/TPR/libraries/endfb-viii.0-hdf5/neutron/Ni58.\n",
      " h5\n",
      " Reading Ni60 from\n",
      " /home/maskedmatters/Documents/Code/TPR/libraries/endfb-viii.0-hdf5/neutron/Ni60.\n",
      " h5\n",
      " Reading Ni61 from\n",
      " /home/maskedmatters/Documents/Code/TPR/libraries/endfb-viii.0-hdf5/neutron/Ni61.\n",
      " h5\n",
      " Reading Ni62 from\n",
      " /home/maskedmatters/Documents/Code/TPR/libraries/endfb-viii.0-hdf5/neutron/Ni62.\n",
      " h5\n",
      " Reading Ni64 from\n",
      " /home/maskedmatters/Documents/Code/TPR/libraries/endfb-viii.0-hdf5/neutron/Ni64.\n",
      " h5\n",
      " Reading Fe54 from\n",
      " /home/maskedmatters/Documents/Code/TPR/libraries/endfb-viii.0-hdf5/neutron/Fe54.\n",
      " h5\n",
      " Reading Fe56 from\n",
      " /home/maskedmatters/Documents/Code/TPR/libraries/endfb-viii.0-hdf5/neutron/Fe56.\n",
      " h5\n",
      " Reading Fe57 from\n",
      " /home/maskedmatters/Documents/Code/TPR/libraries/endfb-viii.0-hdf5/neutron/Fe57.\n",
      " h5\n",
      " Reading Fe58 from\n",
      " /home/maskedmatters/Documents/Code/TPR/libraries/endfb-viii.0-hdf5/neutron/Fe58.\n",
      " h5\n",
      " Reading H1 from\n",
      " /home/maskedmatters/Documents/Code/TPR/libraries/endfb-viii.0-hdf5/neutron/H1.h5\n",
      "  Reading H2 from\n",
      " /home/maskedmatters/Documents/Code/TPR/libraries/endfb-viii.0-hdf5/neutron/H2.h5\n",
      "  Reading c_H_in_H2O from\n",
      " /home/maskedmatters/Documents/Code/TPR/libraries/endfb-viii.0-hdf5/neutron/c_H_i\n",
      " n_H2O.h5\n",
      " Minimum neutron data temperature: 250 K\n",
      " Maximum neutron data temperature: 2500 K\n",
      " Preparing distributed cell instances...\n",
      " Reading plot XML file...\n",
      " Writing summary.h5 file...\n",
      " Maximum neutron transport energy: 20000000 eV for O17\n",
      " Initializing source particles...\n",
      "\n",
      " ====================>     K EIGENVALUE SIMULATION     <====================\n",
      "\n",
      "  Bat./Gen.      k            Average k\n",
      "  =========   ========   ====================\n",
      "        1/1    1.19342\n",
      "        2/1    1.21349\n",
      "        3/1    1.31522\n",
      "        4/1    1.24091\n",
      "        5/1    1.19086\n",
      "        6/1    1.15741\n",
      "        7/1    1.21027\n",
      "        8/1    1.07712\n",
      "        9/1    1.16601\n",
      "       10/1    1.14090\n",
      "       11/1    1.23274\n",
      "       12/1    1.16748    1.20011 +/- 0.03263\n",
      "       13/1    1.16072    1.18698 +/- 0.02296\n",
      "       14/1    1.25257    1.20338 +/- 0.02308\n",
      "       15/1    1.27051    1.21681 +/- 0.02236\n",
      "       16/1    1.17189    1.20932 +/- 0.01973\n",
      "       17/1    1.21526    1.21017 +/- 0.01670\n",
      "       18/1    1.23758    1.21359 +/- 0.01486\n",
      "       19/1    1.25170    1.21783 +/- 0.01377\n",
      "       20/1    1.17548    1.21359 +/- 0.01303\n",
      "       21/1    1.17915    1.21046 +/- 0.01219\n",
      "       22/1    1.27423    1.21578 +/- 0.01233\n",
      "       23/1    1.27814    1.22057 +/- 0.01232\n",
      "       24/1    1.19230    1.21855 +/- 0.01158\n",
      "       25/1    1.14490    1.21364 +/- 0.01185\n",
      "       26/1    1.23872    1.21521 +/- 0.01119\n",
      "       27/1    1.24458    1.21694 +/- 0.01065\n",
      "       28/1    1.18035    1.21490 +/- 0.01025\n",
      "       29/1    1.16166    1.21210 +/- 0.01009\n",
      "       30/1    1.14843    1.20892 +/- 0.01009\n",
      "       31/1    1.22939    1.20989 +/- 0.00965\n",
      "       32/1    1.30783    1.21435 +/- 0.01022\n",
      "       33/1    1.16351    1.21214 +/- 0.01001\n",
      "       34/1    1.20421    1.21180 +/- 0.00959\n",
      "       35/1    1.21713    1.21202 +/- 0.00920\n",
      "       36/1    1.19293    1.21128 +/- 0.00887\n",
      "       37/1    1.16714    1.20965 +/- 0.00869\n",
      "       38/1    1.19169    1.20901 +/- 0.00840\n",
      "       39/1    1.19508    1.20853 +/- 0.00812\n",
      "       40/1    1.19923    1.20822 +/- 0.00785\n",
      "       41/1    1.27617    1.21041 +/- 0.00790\n",
      "       42/1    1.27046    1.21229 +/- 0.00788\n",
      "       43/1    1.19841    1.21187 +/- 0.00765\n",
      "       44/1    1.22866    1.21236 +/- 0.00743\n",
      "       45/1    1.09609    1.20904 +/- 0.00795\n",
      "       46/1    1.21337    1.20916 +/- 0.00772\n",
      "       47/1    1.22909    1.20970 +/- 0.00753\n",
      "       48/1    1.20899    1.20968 +/- 0.00733\n",
      "       49/1    1.19715    1.20936 +/- 0.00715\n",
      "       50/1    1.24728    1.21030 +/- 0.00703\n",
      "       51/1    1.19699    1.20998 +/- 0.00686\n",
      "       52/1    1.24093    1.21072 +/- 0.00674\n",
      "       53/1    1.15225    1.20936 +/- 0.00672\n",
      "       54/1    1.22067    1.20961 +/- 0.00657\n",
      "       55/1    1.20121    1.20943 +/- 0.00643\n",
      "       56/1    1.24827    1.21027 +/- 0.00634\n",
      "       57/1    1.23479    1.21079 +/- 0.00623\n",
      "       58/1    1.27393    1.21211 +/- 0.00624\n",
      "       59/1    1.20206    1.21190 +/- 0.00611\n",
      "       60/1    1.17237    1.21111 +/- 0.00604\n",
      "       61/1    1.16909    1.21029 +/- 0.00598\n",
      "       62/1    1.24350    1.21093 +/- 0.00590\n",
      "       63/1    1.16747    1.21011 +/- 0.00584\n",
      "       64/1    1.15693    1.20912 +/- 0.00582\n",
      "       65/1    1.20446    1.20904 +/- 0.00571\n",
      "       66/1    1.26667    1.21007 +/- 0.00570\n",
      "       67/1    1.21228    1.21011 +/- 0.00560\n",
      "       68/1    1.17281    1.20946 +/- 0.00554\n",
      "       69/1    1.17852    1.20894 +/- 0.00547\n",
      "       70/1    1.17163    1.20832 +/- 0.00541\n",
      "       71/1    1.17673    1.20780 +/- 0.00535\n",
      "       72/1    1.13571    1.20664 +/- 0.00539\n",
      "       73/1    1.11817    1.20523 +/- 0.00549\n",
      "       74/1    1.15579    1.20446 +/- 0.00545\n",
      "       75/1    1.23236    1.20489 +/- 0.00539\n",
      "       76/1    1.17276    1.20440 +/- 0.00533\n",
      "       77/1    1.25296    1.20513 +/- 0.00530\n",
      "       78/1    1.24342    1.20569 +/- 0.00525\n",
      "       79/1    1.16805    1.20514 +/- 0.00520\n",
      "       80/1    1.18974    1.20492 +/- 0.00513\n",
      "       81/1    1.14739    1.20411 +/- 0.00512\n",
      "       82/1    1.24152    1.20463 +/- 0.00508\n",
      "       83/1    1.17049    1.20417 +/- 0.00503\n",
      "       84/1    1.17232    1.20374 +/- 0.00498\n",
      "       85/1    1.19228    1.20358 +/- 0.00491\n",
      "       86/1    1.14838    1.20286 +/- 0.00490\n",
      "       87/1    1.11717    1.20174 +/- 0.00497\n",
      "       88/1    1.27923    1.20274 +/- 0.00500\n",
      "       89/1    1.15627    1.20215 +/- 0.00497\n",
      "       90/1    1.19815    1.20210 +/- 0.00491\n",
      "       91/1    1.17583    1.20177 +/- 0.00486\n",
      "       92/1    1.22130    1.20201 +/- 0.00481\n",
      "       93/1    1.22364    1.20227 +/- 0.00476\n",
      "       94/1    1.23996    1.20272 +/- 0.00472\n",
      "       95/1    1.21288    1.20284 +/- 0.00467\n",
      "       96/1    1.22961    1.20315 +/- 0.00462\n",
      "       97/1    1.17895    1.20287 +/- 0.00458\n",
      "       98/1    1.10843    1.20180 +/- 0.00465\n",
      "       99/1    1.25063    1.20235 +/- 0.00463\n",
      "      100/1    1.13991    1.20166 +/- 0.00463\n",
      " Creating state point statepoint.100.h5...\n",
      "\n",
      " =======================>     TIMING STATISTICS     <=======================\n",
      "\n",
      " Total time for initialization     = 7.3981e+00 seconds\n",
      "   Reading cross sections          = 7.3215e+00 seconds\n",
      " Total time in simulation          = 3.7205e+00 seconds\n",
      "   Time in transport only          = 3.6605e+00 seconds\n",
      "   Time in inactive batches        = 3.1034e-01 seconds\n",
      "   Time in active batches          = 3.4102e+00 seconds\n",
      "   Time synchronizing fission bank = 1.0839e-02 seconds\n",
      "     Sampling source sites         = 9.3356e-03 seconds\n",
      "     SEND/RECV source sites        = 6.6837e-04 seconds\n",
      "   Time accumulating tallies       = 4.1723e-05 seconds\n",
      "   Time writing statepoints        = 2.7517e-02 seconds\n",
      " Total time for finalization       = 1.2990e-06 seconds\n",
      " Total time elapsed                = 1.1159e+01 seconds\n",
      " Calculation Rate (inactive)       = 32222.6 particles/second\n",
      " Calculation Rate (active)         = 26391.6 particles/second\n",
      "\n",
      " ============================>     RESULTS     <============================\n",
      "\n",
      " k-effective (Collision)     = 1.20296 +/- 0.00412\n",
      " k-effective (Track-length)  = 1.20166 +/- 0.00463\n",
      " k-effective (Absorption)    = 1.20657 +/- 0.00338\n",
      " Combined k-effective        = 1.20512 +/- 0.00298\n",
      " Leakage Fraction            = 0.00000 +/- 0.00000\n",
      "\n"
     ]
    }
   ],
   "source": [
    "openmc.run()"
   ]
  }
 ],
 "metadata": {
  "accelerator": "GPU",
  "colab": {
   "collapsed_sections": [],
   "name": "thick_thin.IPYNB",
   "provenance": []
  },
  "kernelspec": {
   "display_name": "openmc-env",
   "language": "python",
   "name": "python3"
  },
  "language_info": {
   "codemirror_mode": {
    "name": "ipython",
    "version": 3
   },
   "file_extension": ".py",
   "mimetype": "text/x-python",
   "name": "python",
   "nbconvert_exporter": "python",
   "pygments_lexer": "ipython3",
   "version": "3.12.7"
  }
 },
 "nbformat": 4,
 "nbformat_minor": 4
}
