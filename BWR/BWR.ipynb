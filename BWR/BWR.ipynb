{
 "cells": [
  {
   "cell_type": "code",
   "execution_count": 74,
   "metadata": {
    "id": "EChOeJ7qVUB7"
   },
   "outputs": [],
   "source": [
    "%matplotlib inline\n",
    "import openmc\n",
    "import os\n",
    "\n",
    "from dotenv import load_dotenv\n",
    "\n",
    "load_dotenv()\n",
    "\n",
    "CROSS_SECTIONS = os.getenv('CROSS_SECTIONS')\n",
    "CHAIN_FILE = os.getenv('CHAIN_FILE')\n",
    "\n",
    "openmc.config['cross_sections'] = CROSS_SECTIONS\n",
    "openmc.config['chain_file'] = CHAIN_FILE"
   ]
  },
  {
   "cell_type": "code",
   "execution_count": 75,
   "metadata": {
    "id": "-0xO897aWbft"
   },
   "outputs": [],
   "source": [
    "# Materials definitions\n",
    "\n",
    "spent_fuel = openmc.Material(name='Fuel')\n",
    "spent_fuel.add_nuclide('U235', 0.05) \n",
    "spent_fuel.add_nuclide('Pu239', 0.03)\n",
    "spent_fuel.add_nuclide('U238', 0.92)\n",
    "spent_fuel.set_density('g/cm3', 10.0)\n",
    "\n",
    "zircaloy = openmc.Material(name='Zircaloy')\n",
    "zircaloy.set_density('g/cm3', 6.55)\n",
    "zircaloy.add_nuclide('Zr90', 7.2758e-3)\n",
    "\n",
    "graphite = openmc.Material(name='Graphite')\n",
    "graphite.set_density('g/cm3', 1.85)\n",
    "graphite.add_element('C', 1)\n",
    "\n",
    "steel = openmc.Material(name='Stainless Steel')\n",
    "steel.set_density('g/cm3', 8.00)\n",
    "steel.add_element('C', 0.08, percent_type='wo')\n",
    "steel.add_element('Si', 1.00, percent_type='wo')\n",
    "steel.add_element('Mn', 2.00, percent_type='wo')\n",
    "steel.add_element('P', 0.045, percent_type='wo')\n",
    "steel.add_element('S', 0.030, percent_type='wo')\n",
    "steel.add_element('Cr', 20.0, percent_type='wo')\n",
    "steel.add_element('Ni', 11.0, percent_type='wo')\n",
    "steel.add_element('Fe', 65.845, percent_type='wo')\n",
    "\n",
    "helium = openmc.Material(name='Helium')\n",
    "helium.set_density('g/cm3', 0.1786)\n",
    "helium.add_element('He', 3)\n",
    "\n",
    "# Instantiate a Materials collection and export to xml\n",
    "materials_file = openmc.Materials([spent_fuel, helium, zircaloy, graphite, steel])\n",
    "materials_file.export_to_xml()"
   ]
  },
  {
   "cell_type": "code",
   "execution_count": 76,
   "metadata": {},
   "outputs": [],
   "source": [
    "# Geometry definitions"
   ]
  },
  {
   "cell_type": "code",
   "execution_count": 77,
   "metadata": {
    "id": "J90KA6zdol04"
   },
   "outputs": [],
   "source": [
    "bottom = openmc.ZPlane(z0=-1.0, boundary_type = 'reflective')\n",
    "top = openmc.ZPlane(z0=1.0, boundary_type = 'reflective')"
   ]
  },
  {
   "cell_type": "code",
   "execution_count": 78,
   "metadata": {
    "id": "7UFi6yivaxDS"
   },
   "outputs": [],
   "source": [
    "pitch = 1.6256\n",
    "\n",
    "# Create the x and y planes that define the boundaries of the square\n",
    "x_min = openmc.XPlane(x0=-pitch / 2)\n",
    "x_max = openmc.XPlane(x0=pitch / 2)\n",
    "y_min = openmc.YPlane(y0=-pitch / 2)\n",
    "y_max = openmc.YPlane(y0=pitch / 2)\n",
    "\n",
    "# Create a region from the intersection of the planes\n",
    "pin_cell_box = +x_min & -x_max & +y_min & -y_max "
   ]
  },
  {
   "cell_type": "code",
   "execution_count": 79,
   "metadata": {},
   "outputs": [],
   "source": [
    "# Geometry definitions for the fuel rod\n",
    "\n",
    "fuel_or  = openmc.ZCylinder(r=1.0414/2, name='Fuel OR')\n",
    "fclad_ir = openmc.ZCylinder(r=1.06426/2, name='Clad IR')\n",
    "fclad_or = openmc.ZCylinder(r=1.22682/2, name='Clad OR')\n",
    "graphite_ir = openmc.ZCylinder(r=1.3)\n",
    "graphite_or = openmc.ZCylinder(r=1.5)\n",
    "\n",
    "fuel_region = -fuel_or \n",
    "gap_region  = +fuel_or & -fclad_ir\n",
    "fclad_region  = +fclad_ir & -fclad_or\n",
    "graphite_region = +fclad_or & -graphite_ir\n",
    "fhelium_region = +graphite_or & pin_cell_box\n",
    "\n",
    "fuel_cell = openmc.Cell(name='fuel')\n",
    "fuel_cell.fill = spent_fuel\n",
    "fuel_cell.region = fuel_region \n",
    "\n",
    "gap_cell = openmc.Cell(name='air gap')\n",
    "gap_cell.region = gap_region\n",
    "\n",
    "clad_cell = openmc.Cell(name='clad')\n",
    "clad_cell.fill = zircaloy\n",
    "clad_cell.region = fclad_region\n",
    "\n",
    "graphite_cell = openmc.Cell(name='graphite')\n",
    "graphite_cell.fill = graphite\n",
    "graphite_cell.region = graphite_region\n",
    "\n",
    "fhelium_cell = openmc.Cell(name='fhelium')\n",
    "fhelium_cell.fill = helium\n",
    "fhelium_cell.region = fhelium_region\n",
    "\n",
    "fuel_pin_universe = openmc.Universe(cells=[fuel_cell, gap_cell, clad_cell, graphite_cell, fhelium_cell])"
   ]
  },
  {
   "cell_type": "code",
   "execution_count": 80,
   "metadata": {},
   "outputs": [
    {
     "data": {
      "text/plain": [
       "<Axes: xlabel='x [cm]', ylabel='y [cm]'>"
      ]
     },
     "execution_count": 80,
     "metadata": {},
     "output_type": "execute_result"
    },
    {
     "data": {
      "image/png": "[encoded data removed]",
      "text/plain": [
       "<Figure size 258.065x259.74 with 1 Axes>"
      ]
     },
     "metadata": {},
     "output_type": "display_data"
    }
   ],
   "source": [
    "fuel_pin_universe.plot(width=(2.5, 2.5), colors={fuel_cell: 'orange', gap_cell: 'white', clad_cell: 'grey', graphite_cell: 'gray', fhelium_cell: 'blue'})"
   ]
  },
  {
   "cell_type": "code",
   "execution_count": 81,
   "metadata": {},
   "outputs": [],
   "source": [
    "# Geometry definitions for the helium rod\n",
    "\n",
    "helium_or = openmc.ZCylinder(r=1.34874/2)\n",
    "wclad_or = openmc.ZCylinder(r=1.50114/2)\n",
    "\n",
    "whelium_inner_region = -helium_or\n",
    "wclad_region = -wclad_or & +helium_or \n",
    "whelium_outer_region = pin_cell_box & +wclad_or\n",
    "\n",
    "whelium_inner_cell = openmc.Cell(name='whelium_inner')\n",
    "whelium_inner_cell.region = whelium_inner_region\n",
    "whelium_inner_cell.fill = helium\n",
    "\n",
    "wclad_cell = openmc.Cell(name='wclad')\n",
    "wclad_cell.fill = zircaloy\n",
    "wclad_cell.region = wclad_region \n",
    "\n",
    "whelium_outer_cell = openmc.Cell(name='whelium_outer')\n",
    "whelium_outer_cell.fill = helium\n",
    "whelium_outer_cell.region = whelium_outer_region\n",
    "\n",
    "helium_pin_universe = openmc.Universe(cells=[whelium_inner_cell, wclad_cell, whelium_outer_cell])"
   ]
  },
  {
   "cell_type": "code",
   "execution_count": 82,
   "metadata": {
    "colab": {
     "base_uri": "https://localhost:8080/",
     "height": 282
    },
    "id": "FklxPQ-1xvNs",
    "outputId": "9e4cb490-0ba5-4838-9f47-0442493b9f6d"
   },
   "outputs": [],
   "source": [
    "# Geometry definitions for the corner rod\n",
    "\n",
    "corner_fuel_or = openmc.ZCylinder(r=1.0414/2, name = 'Corner Cell: Fuel OR')\n",
    "corner_clad_ir = openmc.ZCylinder(r=1.06426/2, name = 'Corner Cell: Clad IR')\n",
    "corner_clad_or = openmc.ZCylinder(r=1.22682/2, name = 'Corner Cell: Clad OR')\n",
    "graphite_ir = openmc.ZCylinder(r=1.3)\n",
    "graphite_or = openmc.ZCylinder(r=1.5)\n",
    "\n",
    "corner_fuel_cell = openmc.Cell(name='fuel')\n",
    "corner_fuel_cell.fill = spent_fuel\n",
    "corner_fuel_cell.region = -corner_fuel_or \n",
    "\n",
    "corner_gap_cell = openmc.Cell(name='air gap')\n",
    "corner_gap_cell.region = -corner_clad_ir & +corner_fuel_or\n",
    "\n",
    "corner_clad_cell = openmc.Cell(name='clad')\n",
    "corner_clad_cell.fill = zircaloy\n",
    "corner_clad_cell.region = +corner_clad_ir & -corner_clad_or\n",
    "\n",
    "graphite_cell = openmc.Cell(name='graphite')\n",
    "graphite_cell.fill = graphite\n",
    "graphite_cell.region = +corner_clad_or & -graphite_ir\n",
    "\n",
    "helium_cell = openmc.Cell(name='helium')\n",
    "helium_cell.fill = helium\n",
    "helium_cell.region = +graphite_or & pin_cell_box\n",
    "\n",
    "corner_pin_universe = openmc.Universe(cells=[corner_fuel_cell, corner_gap_cell, corner_clad_cell, graphite_cell, helium_cell])"
   ]
  },
  {
   "cell_type": "code",
   "execution_count": 83,
   "metadata": {},
   "outputs": [],
   "source": [
    "# Defining an Assembly"
   ]
  },
  {
   "cell_type": "code",
   "execution_count": 84,
   "metadata": {},
   "outputs": [],
   "source": [
    "margin = 1e-8\n",
    "sleave_thickness = 0.2032\n",
    "sleave_inner_radius = 0.9652 + margin"
   ]
  },
  {
   "cell_type": "code",
   "execution_count": 85,
   "metadata": {
    "colab": {
     "base_uri": "https://localhost:8080/",
     "height": 282
    },
    "id": "FklxPQ-1xvNs",
    "outputId": "9e4cb490-0ba5-4838-9f47-0442493b9f6d"
   },
   "outputs": [],
   "source": [
    "ur_corner_fuel_or = openmc.ZCylinder(r=1.0414/2, name='ur Corner Cell: Fuel OR')\n",
    "ur_corner_clad_ir = openmc.ZCylinder(r=1.06426/2, name='ur Corner Cell: Clad IR')\n",
    "ur_corner_clad_or = openmc.ZCylinder(r=1.22682/2, name='ur Corner Cell: Clad OR')\n",
    "graphite_ir = openmc.ZCylinder(x0=pitch/2-sleave_inner_radius-margin, y0=pitch/2-sleave_inner_radius+margin, r=sleave_inner_radius)\n",
    "graphite_or = openmc.ZCylinder(x0=pitch/2-sleave_inner_radius-margin, y0=pitch/2-sleave_inner_radius+margin, r=sleave_inner_radius + sleave_thickness)\n",
    "\n",
    "ur_corner_fuel_cell = openmc.Cell(name='ur fuel')\n",
    "ur_corner_fuel_cell.fill = spent_fuel\n",
    "ur_corner_fuel_cell.region = -ur_corner_fuel_or \n",
    "\n",
    "ur_corner_gap_cell = openmc.Cell(name='ul air gap')\n",
    "ur_corner_gap_cell.region = -ur_corner_clad_ir & +ur_corner_fuel_or\n",
    "\n",
    "ur_corner_clad_cell = openmc.Cell(name='ul clad')\n",
    "ur_corner_clad_cell.fill = zircaloy\n",
    "ur_corner_clad_cell.region = +ur_corner_clad_ir & -ur_corner_clad_or\n",
    "\n",
    "ur_sleave_ir = openmc.ZCylinder(x0=pitch/2-sleave_inner_radius-margin, y0=pitch/2-sleave_inner_radius+margin, r=sleave_inner_radius)\n",
    "ur_sleave_or = openmc.ZCylinder(x0=pitch/2-sleave_inner_radius-margin, y0=pitch/2-sleave_inner_radius+margin, r=sleave_inner_radius + sleave_thickness)\n",
    "\n",
    "ur_sleave_hor_bound = openmc.XPlane(x0=pitch/2 - sleave_inner_radius - margin)\n",
    "ur_sleave_ver_bound = openmc.YPlane(y0=pitch/2 - sleave_inner_radius + margin)\n",
    "\n",
    "ur_sleave_cell = openmc.Cell(name='ur sleave cell')\n",
    "ur_sleave_cell.region = -ur_sleave_or & +ur_sleave_ir & +ur_sleave_hor_bound & +ur_sleave_ver_bound & pin_cell_box\n",
    "ur_sleave_cell.fill = zircaloy\n",
    "\n",
    "ur_sleave_helium_cell = openmc.Cell(name = 'ur sleave helium')\n",
    "ur_sleave_helium_cell.region = pin_cell_box & +ur_sleave_hor_bound & +ur_sleave_ver_bound & +ur_sleave_or\n",
    "ur_sleave_helium_cell.fill = helium\n",
    "\n",
    "ur_sleave_ver_helium_cell = openmc.Cell(name='ur vertically-equivalent sleave helium')\n",
    "ur_sleave_ver_helium_cell.region = pin_cell_box & -ur_sleave_hor_bound & +ur_sleave_ver_bound & +ur_sleave_ir\n",
    "ur_sleave_ver_helium_cell.fill = helium \n",
    "\n",
    "ur_opposite_helium_cell = openmc.Cell(name='ur opposite helium')\n",
    "ur_opposite_helium_cell.region = pin_cell_box & -ur_sleave_hor_bound & -ur_sleave_ver_bound & +ur_sleave_ir\n",
    "ur_opposite_helium_cell.fill = helium \n",
    "\n",
    "ur_sleave_hor_helium_cell = openmc.Cell(name='ur horizontally-equivalent sleave helium')\n",
    "ur_sleave_hor_helium_cell.region = pin_cell_box & +ur_sleave_hor_bound & -ur_sleave_ver_bound & +ur_sleave_ir\n",
    "ur_sleave_hor_helium_cell.fill = helium \n",
    "\n",
    "ur_inner_helium_cell = openmc.Cell(name='ur inner helium cell')\n",
    "ur_inner_helium_cell.region = pin_cell_box & -ur_sleave_ir & +ur_corner_clad_or\n",
    "ur_inner_helium_cell.fill = helium\n",
    "\n",
    "graphite_cell = openmc.Cell(name='graphite')\n",
    "graphite_cell.fill = graphite\n",
    "graphite_cell.region = +ur_corner_clad_or & -graphite_ir\n",
    "\n",
    "ur_corner_pin_universe = openmc.Universe(cells=[ur_corner_fuel_cell, ur_corner_gap_cell, ur_corner_clad_cell, graphite_cell, ur_inner_helium_cell, ur_sleave_helium_cell, ur_sleave_ver_helium_cell, ur_opposite_helium_cell, ur_sleave_hor_helium_cell])"
   ]
  },
  {
   "cell_type": "code",
   "execution_count": 86,
   "metadata": {},
   "outputs": [
    {
     "data": {
      "text/plain": [
       "<Axes: xlabel='x [cm]', ylabel='y [cm]'>"
      ]
     },
     "execution_count": 86,
     "metadata": {},
     "output_type": "execute_result"
    },
    {
     "data": {
      "image/png": "[encoded data removed]",
      "text/plain": [
       "<Figure size 258.065x259.74 with 1 Axes>"
      ]
     },
     "metadata": {},
     "output_type": "display_data"
    }
   ],
   "source": [
    "ur_corner_pin_universe.plot(width=(2.5, 2.5), basis='xy', colors={\n",
    "    ur_corner_fuel_cell: 'orange', \n",
    "    ur_corner_gap_cell: 'white', \n",
    "    ur_corner_clad_cell: 'grey', \n",
    "    ur_sleave_cell: 'brown', \n",
    "    ur_inner_helium_cell: 'blue', \n",
    "    ur_sleave_helium_cell: 'blue', \n",
    "    ur_sleave_ver_helium_cell: 'blue', \n",
    "    ur_opposite_helium_cell: 'blue', \n",
    "    ur_sleave_hor_helium_cell: 'blue', \n",
    "    graphite_cell: 'gray'\n",
    "})"
   ]
  },
  {
   "cell_type": "code",
   "execution_count": 87,
   "metadata": {
    "scrolled": true
   },
   "outputs": [],
   "source": [
    "ul_corner_fuel_or = openmc.ZCylinder(r=(1.0414/2), name='ul Corner Cell: Fuel OR')\n",
    "ul_corner_clad_ir = openmc.ZCylinder(r=(1.06426/2), name='ul Corner Cell: Clad IR')\n",
    "ul_corner_clad_or = openmc.ZCylinder(r=(1.22682/2), name='ul Corner Cell: Clad OR')\n",
    "\n",
    "ul_corner_fuel_cell = openmc.Cell(name='ul fuel')\n",
    "ul_corner_fuel_cell.fill = spent_fuel\n",
    "ul_corner_fuel_cell.region = -ul_corner_fuel_or \n",
    "\n",
    "ul_corner_gap_cell = openmc.Cell(name='ul air gap')\n",
    "ul_corner_gap_cell.region = -ul_corner_clad_ir & +ul_corner_fuel_or\n",
    "\n",
    "ul_corner_clad_cell = openmc.Cell(name='ul clad')\n",
    "ul_corner_clad_cell.fill = zircaloy\n",
    "ul_corner_clad_cell.region = +ul_corner_clad_ir & -ul_corner_clad_or\n",
    "\n",
    "ul_sleave_ir = openmc.ZCylinder(x0=-pitch/2+sleave_inner_radius+margin, y0=pitch/2-sleave_inner_radius+margin, r=sleave_inner_radius) #Shouldn't have margin\n",
    "ul_sleave_or = openmc.ZCylinder(x0=-pitch/2+sleave_inner_radius+margin, y0=pitch/2-sleave_inner_radius+margin, r=sleave_inner_radius + sleave_thickness)\n",
    "\n",
    "ul_sleave_hor_bound = openmc.XPlane(x0=-pitch/2+sleave_inner_radius+margin)\n",
    "ul_sleave_ver_bound = openmc.YPlane(y0=pitch/2-sleave_inner_radius+margin)\n",
    "\n",
    "ul_sleave_cell = openmc.Cell(name='ul sleave cell')\n",
    "ul_sleave_cell.region = -ul_sleave_or & +ul_sleave_ir & -ul_sleave_hor_bound & +ul_sleave_ver_bound & pin_cell_box\n",
    "ul_sleave_cell.fill = zircaloy\n",
    "\n",
    "ul_sleave_helium_cell = openmc.Cell(name='ul sleave helium')\n",
    "ul_sleave_helium_cell.region = pin_cell_box & -ul_sleave_hor_bound & +ul_sleave_ver_bound & +ul_sleave_or\n",
    "ul_sleave_helium_cell.fill = helium\n",
    "\n",
    "ul_sleave_ver_helium_cell = openmc.Cell(name='ul vertically-equivalent sleave helium')\n",
    "ul_sleave_ver_helium_cell.region = pin_cell_box & +ul_sleave_hor_bound & +ul_sleave_ver_bound & +ul_sleave_ir\n",
    "ul_sleave_ver_helium_cell.fill = helium \n",
    "\n",
    "ul_opposite_helium_cell = openmc.Cell(name='ul opposite helium')\n",
    "ul_opposite_helium_cell.region = pin_cell_box & +ul_sleave_hor_bound & -ul_sleave_ver_bound & +ul_sleave_ir\n",
    "ul_opposite_helium_cell.fill = helium \n",
    "\n",
    "ul_sleave_hor_helium_cell = openmc.Cell(name='ul horizontally-equivalent sleave helium')\n",
    "ul_sleave_hor_helium_cell.region = pin_cell_box & -ul_sleave_hor_bound & -ul_sleave_ver_bound & +ul_sleave_ir\n",
    "ul_sleave_hor_helium_cell.fill = helium \n",
    "\n",
    "ul_inner_helium_cell = openmc.Cell(name='ul inner helium cell')\n",
    "ul_inner_helium_cell.region = pin_cell_box & -ul_sleave_ir & +ul_corner_clad_or\n",
    "ul_inner_helium_cell.fill = helium\n",
    "\n",
    "ul_corner_pin_universe = openmc.Universe(cells=[ul_corner_fuel_cell, ul_corner_gap_cell, ul_corner_clad_cell, ul_sleave_cell, ul_inner_helium_cell, ul_sleave_helium_cell, ul_sleave_ver_helium_cell, ul_opposite_helium_cell, ul_sleave_hor_helium_cell])"
   ]
  },
  {
   "cell_type": "code",
   "execution_count": 88,
   "metadata": {},
   "outputs": [
    {
     "data": {
      "text/plain": [
       "<Axes: xlabel='x [cm]', ylabel='y [cm]'>"
      ]
     },
     "execution_count": 88,
     "metadata": {},
     "output_type": "execute_result"
    },
    {
     "data": {
      "image/png": "[encoded data removed]",
      "text/plain": [
       "<Figure size 258.065x259.74 with 1 Axes>"
      ]
     },
     "metadata": {},
     "output_type": "display_data"
    }
   ],
   "source": [
    "ul_corner_pin_universe.plot(width=(2.5, 2.5), basis = 'xy', colors = {ul_corner_fuel_cell: 'orange', ul_corner_gap_cell: 'white', ul_corner_clad_cell: 'grey', ul_sleave_cell:'brown', ul_inner_helium_cell: 'blue', ul_sleave_helium_cell: 'blue', ul_sleave_ver_helium_cell: 'blue', ul_opposite_helium_cell: 'blue', ul_sleave_hor_helium_cell: 'blue'})"
   ]
  },
  {
   "cell_type": "code",
   "execution_count": 89,
   "metadata": {},
   "outputs": [],
   "source": [
    "ll_corner_fuel_or = openmc.ZCylinder(r=1.0414/2, name='ll Corner Cell: Fuel OR')\n",
    "ll_corner_clad_ir = openmc.ZCylinder(r=1.06426/2, name='ll Corner Cell: Clad IR')\n",
    "ll_corner_clad_or = openmc.ZCylinder(r=1.22682/2, name='ll Corner Cell: Clad OR')\n",
    "\n",
    "ll_corner_fuel_cell = openmc.Cell(name='ll fuel')\n",
    "ll_corner_fuel_cell.fill = spent_fuel\n",
    "ll_corner_fuel_cell.region = -ll_corner_fuel_or \n",
    "\n",
    "ll_corner_gap_cell = openmc.Cell(name='ll air gap')\n",
    "ll_corner_gap_cell.region = -ll_corner_clad_ir & +ll_corner_fuel_or\n",
    "\n",
    "ll_corner_clad_cell = openmc.Cell(name='ll clad')\n",
    "ll_corner_clad_cell.fill = zircaloy\n",
    "ll_corner_clad_cell.region = +ll_corner_clad_ir & -ll_corner_clad_or\n",
    "\n",
    "ll_sleave_ir = openmc.ZCylinder(x0=-pitch/2+sleave_inner_radius+margin, y0=-pitch/2+sleave_inner_radius-margin, r=sleave_inner_radius)\n",
    "ll_sleave_or = openmc.ZCylinder(x0=-pitch/2+sleave_inner_radius+margin, y0=-pitch/2+sleave_inner_radius-margin, r=sleave_inner_radius+sleave_thickness)\n",
    "\n",
    "ll_sleave_hor_bound = openmc.XPlane(x0=-pitch/2+sleave_inner_radius+margin)\n",
    "ll_sleave_ver_bound = openmc.YPlane(y0=-pitch/2+sleave_inner_radius-margin)\n",
    "\n",
    "ll_sleave_cell = openmc.Cell(name='ul sleave cell')\n",
    "ll_sleave_cell.region = -ll_sleave_or & +ll_sleave_ir & -ll_sleave_hor_bound & -ll_sleave_ver_bound & pin_cell_box\n",
    "ll_sleave_cell.fill = zircaloy\n",
    "\n",
    "ll_sleave_helium_cell = openmc.Cell(name='ul sleave helium')\n",
    "ll_sleave_helium_cell.region = pin_cell_box & -ll_sleave_hor_bound & -ll_sleave_ver_bound & +ll_sleave_or\n",
    "ll_sleave_helium_cell.fill = helium\n",
    "\n",
    "ll_sleave_ver_helium_cell = openmc.Cell(name='ul vertically-equivalent sleave helium')\n",
    "ll_sleave_ver_helium_cell.region = pin_cell_box & +ll_sleave_hor_bound & -ll_sleave_ver_bound & +ll_sleave_ir\n",
    "ll_sleave_ver_helium_cell.fill = helium \n",
    "\n",
    "ll_opposite_helium_cell = openmc.Cell(name='ul opposite helium')\n",
    "ll_opposite_helium_cell.region = pin_cell_box & +ll_sleave_hor_bound & +ll_sleave_ver_bound & +ll_sleave_ir\n",
    "ll_opposite_helium_cell.fill = helium \n",
    "\n",
    "ll_sleave_hor_helium_cell = openmc.Cell(name='ul horizontally-equivalent sleave helium')\n",
    "ll_sleave_hor_helium_cell.region = pin_cell_box & -ll_sleave_hor_bound & +ll_sleave_ver_bound & +ll_sleave_ir\n",
    "ll_sleave_hor_helium_cell.fill = helium \n",
    "\n",
    "ll_inner_helium_cell = openmc.Cell(name='ul inner helium cell')\n",
    "ll_inner_helium_cell.region = pin_cell_box & -ll_sleave_ir & +ll_corner_clad_or\n",
    "ll_inner_helium_cell.fill = helium\n",
    "\n",
    "ll_corner_pin_universe = openmc.Universe(cells=[ll_corner_fuel_cell, ll_corner_gap_cell, ll_corner_clad_cell, ll_sleave_cell, ll_inner_helium_cell, ll_sleave_helium_cell, ll_sleave_ver_helium_cell, ll_opposite_helium_cell, ll_sleave_hor_helium_cell])"
   ]
  },
  {
   "cell_type": "code",
   "execution_count": 90,
   "metadata": {},
   "outputs": [
    {
     "data": {
      "text/plain": [
       "<Axes: xlabel='x [cm]', ylabel='y [cm]'>"
      ]
     },
     "execution_count": 90,
     "metadata": {},
     "output_type": "execute_result"
    },
    {
     "data": {
      "image/png": "[encoded data removed]",
      "text/plain": [
       "<Figure size 258.065x259.74 with 1 Axes>"
      ]
     },
     "metadata": {},
     "output_type": "display_data"
    }
   ],
   "source": [
    "ll_corner_pin_universe.plot(width=(2.5, 2.5), basis = 'xy', colors = {ll_corner_fuel_cell: 'orange', ll_corner_gap_cell: 'white', ll_corner_clad_cell: 'grey', ll_sleave_cell:'brown', ll_inner_helium_cell: 'blue', ll_sleave_helium_cell: 'blue', ll_sleave_ver_helium_cell: 'blue', ll_opposite_helium_cell: 'blue', ll_sleave_hor_helium_cell: 'blue'})"
   ]
  },
  {
   "cell_type": "code",
   "execution_count": 91,
   "metadata": {},
   "outputs": [],
   "source": [
    "lr_corner_fuel_or = openmc.ZCylinder(r=1.0414/2, name='lr Corner Cell: Fuel OR')\n",
    "lr_corner_clad_ir = openmc.ZCylinder(r=1.06426/2, name='lr Corner Cell: Clad IR')\n",
    "lr_corner_clad_or = openmc.ZCylinder(r=1.22682/2, name='lr Corner Cell: Clad OR')\n",
    "\n",
    "lr_corner_fuel_cell = openmc.Cell(name='lr fuel')\n",
    "lr_corner_fuel_cell.fill = spent_fuel\n",
    "lr_corner_fuel_cell.region = -lr_corner_fuel_or \n",
    "\n",
    "lr_corner_gap_cell = openmc.Cell(name='lr air gap')\n",
    "lr_corner_gap_cell.region = -lr_corner_clad_ir & +lr_corner_fuel_or\n",
    "\n",
    "lr_corner_clad_cell = openmc.Cell(name='lr clad')\n",
    "lr_corner_clad_cell.fill = zircaloy\n",
    "lr_corner_clad_cell.region = +lr_corner_clad_ir & -lr_corner_clad_or\n",
    "\n",
    "lr_sleave_ir = openmc.ZCylinder(x0=pitch/2-sleave_inner_radius-margin, y0=-pitch/2+sleave_inner_radius-margin, r=sleave_inner_radius)\n",
    "lr_sleave_or = openmc.ZCylinder(x0=pitch/2-sleave_inner_radius-margin, y0=-pitch/2+sleave_inner_radius-margin, r=sleave_inner_radius+sleave_thickness)\n",
    "\n",
    "lr_sleave_hor_bound = openmc.XPlane(x0=pitch/2 - sleave_inner_radius - margin)\n",
    "lr_sleave_ver_bound = openmc.YPlane(y0=-pitch/2 + sleave_inner_radius - margin)\n",
    "\n",
    "lr_sleave_cell = openmc.Cell(name='ur sleave cell')\n",
    "lr_sleave_cell.region = -lr_sleave_or & +lr_sleave_ir & +lr_sleave_hor_bound & -lr_sleave_ver_bound & pin_cell_box\n",
    "lr_sleave_cell.fill = zircaloy\n",
    "\n",
    "lr_sleave_helium_cell = openmc.Cell(name='ur sleave helium')\n",
    "lr_sleave_helium_cell.region = pin_cell_box & +lr_sleave_hor_bound & -lr_sleave_ver_bound & +lr_sleave_or\n",
    "lr_sleave_helium_cell.fill = helium\n",
    "\n",
    "lr_sleave_ver_helium_cell = openmc.Cell(name='ur vertically-equivalent sleave helium')\n",
    "lr_sleave_ver_helium_cell.region = pin_cell_box & -lr_sleave_hor_bound & -lr_sleave_ver_bound & +lr_sleave_ir\n",
    "lr_sleave_ver_helium_cell.fill = helium \n",
    "\n",
    "lr_opposite_helium_cell = openmc.Cell(name='ur opposite helium')\n",
    "lr_opposite_helium_cell.region = pin_cell_box & -lr_sleave_hor_bound & +lr_sleave_ver_bound & +lr_sleave_ir\n",
    "lr_opposite_helium_cell.fill = helium \n",
    "\n",
    "lr_sleave_hor_helium_cell = openmc.Cell(name='ur horizontally-equivalent sleave helium')\n",
    "lr_sleave_hor_helium_cell.region = pin_cell_box & +lr_sleave_hor_bound & +lr_sleave_ver_bound & +lr_sleave_ir\n",
    "lr_sleave_hor_helium_cell.fill = helium \n",
    "\n",
    "lr_inner_helium_cell = openmc.Cell(name='ur inner helium cell')\n",
    "lr_inner_helium_cell.region = pin_cell_box & -lr_sleave_ir & +lr_corner_clad_or\n",
    "lr_inner_helium_cell.fill = helium\n",
    "\n",
    "lr_corner_pin_universe = openmc.Universe(cells=[lr_corner_fuel_cell, lr_corner_gap_cell, lr_corner_clad_cell, lr_sleave_cell, lr_inner_helium_cell, lr_sleave_helium_cell, lr_sleave_ver_helium_cell, lr_opposite_helium_cell, lr_sleave_hor_helium_cell])"
   ]
  },
  {
   "cell_type": "code",
   "execution_count": 92,
   "metadata": {},
   "outputs": [
    {
     "data": {
      "text/plain": [
       "<Axes: xlabel='x [cm]', ylabel='y [cm]'>"
      ]
     },
     "execution_count": 92,
     "metadata": {},
     "output_type": "execute_result"
    },
    {
     "data": {
      "image/png": "[encoded data removed]",
      "text/plain": [
       "<Figure size 258.065x259.74 with 1 Axes>"
      ]
     },
     "metadata": {},
     "output_type": "display_data"
    }
   ],
   "source": [
    "lr_corner_pin_universe.plot(width=(2.5, 2.5), basis = 'xy', colors = {lr_corner_fuel_cell: 'orange', lr_corner_gap_cell: 'white', lr_corner_clad_cell: 'grey', lr_sleave_cell:'brown', lr_inner_helium_cell: 'blue', lr_sleave_helium_cell: 'blue', lr_sleave_ver_helium_cell: 'blue', lr_opposite_helium_cell: 'blue', lr_sleave_hor_helium_cell: 'blue'})"
   ]
  },
  {
   "cell_type": "code",
   "execution_count": 93,
   "metadata": {},
   "outputs": [],
   "source": [
    "import openmc\n",
    "\n",
    "quarter_pitch = pitch * 8\n",
    "\n",
    "assembly = openmc.RectLattice(name='Quarter Assembly')\n",
    "assembly.pitch = (pitch, pitch)\n",
    "assembly.lower_left = [-quarter_pitch/2, -quarter_pitch/2]\n",
    "\n",
    "assembly.universes = [\n",
    "                      [ul_corner_pin_universe, fuel_pin_universe, fuel_pin_universe, fuel_pin_universe, fuel_pin_universe, fuel_pin_universe, fuel_pin_universe, ur_corner_pin_universe],\n",
    "                      [fuel_pin_universe, fuel_pin_universe, fuel_pin_universe, fuel_pin_universe, fuel_pin_universe, fuel_pin_universe, fuel_pin_universe, fuel_pin_universe],\n",
    "                      [fuel_pin_universe, fuel_pin_universe, fuel_pin_universe, fuel_pin_universe, fuel_pin_universe, fuel_pin_universe, fuel_pin_universe, fuel_pin_universe],\n",
    "                      [fuel_pin_universe, fuel_pin_universe, fuel_pin_universe, helium_pin_universe, fuel_pin_universe, fuel_pin_universe, fuel_pin_universe, fuel_pin_universe],\n",
    "                      [fuel_pin_universe, fuel_pin_universe, fuel_pin_universe, fuel_pin_universe, helium_pin_universe, fuel_pin_universe, fuel_pin_universe, fuel_pin_universe],\n",
    "                      [fuel_pin_universe, fuel_pin_universe, fuel_pin_universe, fuel_pin_universe, fuel_pin_universe, fuel_pin_universe, fuel_pin_universe, fuel_pin_universe],\n",
    "                      [fuel_pin_universe, fuel_pin_universe, fuel_pin_universe, fuel_pin_universe, fuel_pin_universe, fuel_pin_universe, fuel_pin_universe, fuel_pin_universe],\n",
    "                      [ll_corner_pin_universe, fuel_pin_universe, fuel_pin_universe, fuel_pin_universe, fuel_pin_universe, fuel_pin_universe, fuel_pin_universe, lr_corner_pin_universe]\n",
    "]\n",
    "\n",
    "# Define x and y planes for assembly region\n",
    "x_min_assembly = openmc.XPlane(x0=-quarter_pitch / 2)\n",
    "x_max_assembly = openmc.XPlane(x0=quarter_pitch / 2)\n",
    "y_min_assembly = openmc.YPlane(y0=-quarter_pitch / 2)\n",
    "y_max_assembly = openmc.YPlane(y0=quarter_pitch / 2)\n",
    "\n",
    "# Create assembly region using planes\n",
    "assembly_region = +x_min_assembly & -x_max_assembly & +y_min_assembly & -y_max_assembly\n",
    "assembly_cell = openmc.Cell(name='quarter assembly cell', fill=assembly, region=assembly_region)\n",
    "\n",
    "# Define x and y planes for assembly sleeve with added thickness\n",
    "x_min_sleave = openmc.XPlane(x0=-(quarter_pitch + 2*sleave_thickness) / 2)\n",
    "x_max_sleave = openmc.XPlane(x0=(quarter_pitch + 2*sleave_thickness) / 2)\n",
    "y_min_sleave = openmc.YPlane(y0=-(quarter_pitch + 2*sleave_thickness) / 2)\n",
    "y_max_sleave = openmc.YPlane(y0=(quarter_pitch + 2*sleave_thickness) / 2)\n",
    "\n",
    "# Create assembly sleeve region using planes and exclude assembly region\n",
    "assembly_sleave = openmc.Cell(name='quarter assembly sleave')\n",
    "assembly_sleave.region = +x_min_sleave & -x_max_sleave & +y_min_sleave & -y_max_sleave & ~assembly_cell.region \n",
    "assembly_sleave.fill = zircaloy\n",
    "\n",
    "# Define x and y planes for outer helium with added thickness and reflective boundary\n",
    "x_min_helium = openmc.XPlane(x0=-(quarter_pitch + 2*sleave_thickness + 1) / 2, boundary_type='reflective')\n",
    "x_max_helium = openmc.XPlane(x0=(quarter_pitch + 2*sleave_thickness + 1) / 2, boundary_type='reflective')\n",
    "y_min_helium = openmc.YPlane(y0=-(quarter_pitch + 2*sleave_thickness + 1) / 2, boundary_type='reflective')\n",
    "y_max_helium = openmc.YPlane(y0=(quarter_pitch + 2*sleave_thickness + 1) / 2, boundary_type='reflective')\n",
    "\n",
    "# Create outer helium region using planes and exclude assembly and sleeve regions\n",
    "assembly_outer_helium = openmc.Cell(name='assembly outer helium')\n",
    "assembly_outer_helium.region = +x_min_helium & -x_max_helium & +y_min_helium & -y_max_helium & ~assembly_sleave.region & ~assembly_cell.region\n",
    "assembly_outer_helium.fill = helium\n",
    "\n",
    "quarter_assembly_universe = openmc.Universe(cells=[assembly_cell, assembly_sleave, assembly_outer_helium])"
   ]
  },
  {
   "cell_type": "code",
   "execution_count": 94,
   "metadata": {},
   "outputs": [
    {
     "data": {
      "text/plain": [
       "<Axes: xlabel='x [cm]', ylabel='y [cm]'>"
      ]
     },
     "execution_count": 94,
     "metadata": {},
     "output_type": "execute_result"
    },
    {
     "data": {
      "image/png": "[encoded data removed]",
      "text/plain": [
       "<Figure size 258.065x259.74 with 1 Axes>"
      ]
     },
     "metadata": {},
     "output_type": "display_data"
    }
   ],
   "source": [
    "quarter_assembly_universe.plot(width=(15,15), colors={assembly_outer_helium: 'blue'})"
   ]
  },
  {
   "cell_type": "code",
   "execution_count": 95,
   "metadata": {},
   "outputs": [],
   "source": [
    "geom = openmc.Geometry(quarter_assembly_universe)\n",
    "geom.export_to_xml()"
   ]
  },
  {
   "cell_type": "code",
   "execution_count": 96,
   "metadata": {
    "colab": {
     "base_uri": "https://localhost:8080/"
    },
    "id": "JPOk4874OR3w",
    "outputId": "b15d56c2-f9a1-42c4-b06f-3e779a1953ec"
   },
   "outputs": [],
   "source": [
    "import openmc\n",
    "\n",
    "# OpenMC simulation parameters\n",
    "\n",
    "point = openmc.stats.Point((0, 0, 0))\n",
    "src = openmc.IndependentSource(space=point)  # Use IndependentSource\n",
    "settings = openmc.Settings()\n",
    "settings.source = src\n",
    "settings.batches = 100\n",
    "settings.inactive = 10\n",
    "settings.particles = 1000\n",
    "settings.export_to_xml()"
   ]
  },
  {
   "cell_type": "code",
   "execution_count": 97,
   "metadata": {
    "colab": {
     "base_uri": "https://localhost:8080/"
    },
    "id": "lkX_1LrAzw71",
    "outputId": "6331f2a0-42fc-4919-91d3-7bca6b5d735f"
   },
   "outputs": [
    {
     "name": "stdout",
     "output_type": "stream",
     "text": [
      "[sebastian-TUF-Gaming-FX505GT:118985] shmem: mmap: an error occurred while determining whether or not /tmp/ompi.sebastian-TUF-Gaming-FX505GT.1000/jf.0/1489174528/shared_mem_cuda_pool.sebastian-TUF-Gaming-FX505GT could be created.\n",
      "[sebastian-TUF-Gaming-FX505GT:118985] create_and_attach: unable to create shared memory BTL coordinating structure :: size 134217728 \n",
      "                                %%%%%%%%%%%%%%%\n",
      "                           %%%%%%%%%%%%%%%%%%%%%%%%\n",
      "                        %%%%%%%%%%%%%%%%%%%%%%%%%%%%%%\n",
      "                      %%%%%%%%%%%%%%%%%%%%%%%%%%%%%%%%%%\n",
      "                    %%%%%%%%%%%%%%%%%%%%%%%%%%%%%%%%%%%%%%\n",
      "                   %%%%%%%%%%%%%%%%%%%%%%%%%%%%%%%%%%%%%%%%\n",
      "                                    %%%%%%%%%%%%%%%%%%%%%%%%\n",
      "                                     %%%%%%%%%%%%%%%%%%%%%%%%\n",
      "                 ###############      %%%%%%%%%%%%%%%%%%%%%%%%\n",
      "                ##################     %%%%%%%%%%%%%%%%%%%%%%%\n",
      "                ###################     %%%%%%%%%%%%%%%%%%%%%%%\n",
      "                ####################     %%%%%%%%%%%%%%%%%%%%%%\n",
      "                #####################     %%%%%%%%%%%%%%%%%%%%%\n",
      "                ######################     %%%%%%%%%%%%%%%%%%%%\n",
      "                #######################     %%%%%%%%%%%%%%%%%%\n",
      "                 #######################     %%%%%%%%%%%%%%%%%\n",
      "                 ######################     %%%%%%%%%%%%%%%%%\n",
      "                  ####################     %%%%%%%%%%%%%%%%%\n",
      "                    #################     %%%%%%%%%%%%%%%%%\n",
      "                     ###############     %%%%%%%%%%%%%%%%\n",
      "                       ############     %%%%%%%%%%%%%%%\n",
      "                          ########     %%%%%%%%%%%%%%\n",
      "                                      %%%%%%%%%%%\n",
      "\n",
      "                 | The OpenMC Monte Carlo Code\n",
      "       Copyright | 2011-2024 MIT, UChicago Argonne LLC, and contributors\n",
      "         License | https://docs.openmc.org/en/latest/license.html\n",
      "         Version | 0.15.0\n",
      "        Git SHA1 | 84fb85977f46e162fea8f5a20ea653a3ec62ac24\n",
      "       Date/Time | 2024-11-02 13:24:22\n",
      "   MPI Processes | 1\n",
      "  OpenMP Threads | 12\n",
      "\n",
      " Reading settings XML file...\n",
      " Reading cross sections XML file...\n",
      " Reading materials XML file...\n",
      " Reading geometry XML file...\n",
      " Reading U235 from\n",
      " /home/sebas/Documents/Code/jupyter/endfb-viii.0-hdf5/neutron/U235.h5\n",
      " Reading Pu239 from\n",
      " /home/sebas/Documents/Code/jupyter/endfb-viii.0-hdf5/neutron/Pu239.h5\n",
      " Reading U238 from\n",
      " /home/sebas/Documents/Code/jupyter/endfb-viii.0-hdf5/neutron/U238.h5\n",
      " Reading Zr90 from\n",
      " /home/sebas/Documents/Code/jupyter/endfb-viii.0-hdf5/neutron/Zr90.h5\n",
      " Reading C12 from\n",
      " /home/sebas/Documents/Code/jupyter/endfb-viii.0-hdf5/neutron/C12.h5\n",
      " Reading C13 from\n",
      " /home/sebas/Documents/Code/jupyter/endfb-viii.0-hdf5/neutron/C13.h5\n",
      " Reading Si28 from\n",
      " /home/sebas/Documents/Code/jupyter/endfb-viii.0-hdf5/neutron/Si28.h5\n",
      " Reading Si29 from\n",
      " /home/sebas/Documents/Code/jupyter/endfb-viii.0-hdf5/neutron/Si29.h5\n",
      " Reading Si30 from\n",
      " /home/sebas/Documents/Code/jupyter/endfb-viii.0-hdf5/neutron/Si30.h5\n",
      " Reading Mn55 from\n",
      " /home/sebas/Documents/Code/jupyter/endfb-viii.0-hdf5/neutron/Mn55.h5\n",
      " Reading P31 from\n",
      " /home/sebas/Documents/Code/jupyter/endfb-viii.0-hdf5/neutron/P31.h5\n",
      " Reading S32 from\n",
      " /home/sebas/Documents/Code/jupyter/endfb-viii.0-hdf5/neutron/S32.h5\n",
      " Reading S33 from\n",
      " /home/sebas/Documents/Code/jupyter/endfb-viii.0-hdf5/neutron/S33.h5\n",
      " Reading S34 from\n",
      " /home/sebas/Documents/Code/jupyter/endfb-viii.0-hdf5/neutron/S34.h5\n",
      " Reading S36 from\n",
      " /home/sebas/Documents/Code/jupyter/endfb-viii.0-hdf5/neutron/S36.h5\n",
      " Reading Cr50 from\n",
      " /home/sebas/Documents/Code/jupyter/endfb-viii.0-hdf5/neutron/Cr50.h5\n",
      " Reading Cr52 from\n",
      " /home/sebas/Documents/Code/jupyter/endfb-viii.0-hdf5/neutron/Cr52.h5\n",
      " Reading Cr53 from\n",
      " /home/sebas/Documents/Code/jupyter/endfb-viii.0-hdf5/neutron/Cr53.h5\n",
      " Reading Cr54 from\n",
      " /home/sebas/Documents/Code/jupyter/endfb-viii.0-hdf5/neutron/Cr54.h5\n",
      " Reading Ni58 from\n",
      " /home/sebas/Documents/Code/jupyter/endfb-viii.0-hdf5/neutron/Ni58.h5\n",
      " Reading Ni60 from\n",
      " /home/sebas/Documents/Code/jupyter/endfb-viii.0-hdf5/neutron/Ni60.h5\n",
      " Reading Ni61 from\n",
      " /home/sebas/Documents/Code/jupyter/endfb-viii.0-hdf5/neutron/Ni61.h5\n",
      " Reading Ni62 from\n",
      " /home/sebas/Documents/Code/jupyter/endfb-viii.0-hdf5/neutron/Ni62.h5\n",
      " Reading Ni64 from\n",
      " /home/sebas/Documents/Code/jupyter/endfb-viii.0-hdf5/neutron/Ni64.h5\n",
      " Reading Fe54 from\n",
      " /home/sebas/Documents/Code/jupyter/endfb-viii.0-hdf5/neutron/Fe54.h5\n",
      " Reading Fe56 from\n",
      " /home/sebas/Documents/Code/jupyter/endfb-viii.0-hdf5/neutron/Fe56.h5\n",
      " Reading Fe57 from\n",
      " /home/sebas/Documents/Code/jupyter/endfb-viii.0-hdf5/neutron/Fe57.h5\n",
      " Reading Fe58 from\n",
      " /home/sebas/Documents/Code/jupyter/endfb-viii.0-hdf5/neutron/Fe58.h5\n",
      " Reading He3 from\n",
      " /home/sebas/Documents/Code/jupyter/endfb-viii.0-hdf5/neutron/He3.h5\n",
      " Reading He4 from\n",
      " /home/sebas/Documents/Code/jupyter/endfb-viii.0-hdf5/neutron/He4.h5\n",
      " Minimum neutron data temperature: 250 K\n",
      " Maximum neutron data temperature: 2500 K\n",
      " Preparing distributed cell instances...\n",
      " Reading plot XML file...\n",
      " Writing summary.h5 file...\n",
      " Maximum neutron transport energy: 20000000 eV for Pu239\n",
      " Initializing source particles...\n",
      "\n",
      " ====================>     K EIGENVALUE SIMULATION     <====================\n",
      "\n",
      "  Bat./Gen.      k            Average k\n",
      "  =========   ========   ====================\n",
      " WARNING: After particle 421 crossed surface 188 it could not be located in any\n",
      "          cell and it did not leak.\n",
      " WARNING: After particle 670 crossed surface 216 it could not be located in any\n",
      "          cell and it did not leak.\n",
      " WARNING: After particle 503 crossed surface 188 it could not be located in any\n",
      "          cell and it did not leak.\n",
      " WARNING: After particle 86 crossed surface 214 it could not be located in any\n",
      "          cell and it did not leak.\n",
      " WARNING: After particle 170 crossed surface 188 it could not be located in any\n",
      "          cell and it did not leak.\n",
      " WARNING: After particle 339 crossed surface 188 it could not be located in any\n",
      "          cell and it did not leak.\n",
      " WARNING: After particle 840 crossed surface 188 it could not be located in any\n",
      "          cell and it did not leak.\n",
      " WARNING: After particle 921 crossed surface 216 it could not be located in any\n",
      "          cell and it did not leak.\n",
      " WARNING: After particle 757 crossed surface 188 it could not be located in any\n",
      "          cell and it did not leak.\n",
      " WARNING: After particle 3 crossed surface 188 it could not be located in any\n",
      "          cell and it did not leak.\n",
      " WARNING: After particle 423 crossed surface 189 it could not be located in any\n",
      "          cell and it did not leak.\n",
      " WARNING: After particle 259 crossed surface 214 it could not be located in any\n",
      "          cell and it did not leak.\n",
      " WARNING: After particle 924 crossed surface 214 it could not be located in any\n",
      "          cell and it did not leak.\n",
      " WARNING: After particle 606 crossed surface 188 it could not be located in any\n",
      "          cell and it did not leak.\n",
      " WARNING: After particle 504 crossed surface 188 it could not be located in any\n",
      "          cell and it did not leak.\n",
      " WARNING: After particle 265 crossed surface 188 it could not be located in any\n",
      "          cell and it did not leak.\n",
      " WARNING: After particle 92 crossed surface 188 it could not be located in any\n",
      "          cell and it did not leak.\n",
      " WARNING: After particle 173 crossed surface 216 it could not be located in any\n",
      "          cell and it did not leak.\n",
      " WARNING: After particle 424 crossed surface 189 it could not be located in any\n",
      "          cell and it did not leak.\n",
      " WARNING: After particle 846 crossed surface 216 it could not be located in any\n",
      "          cell and it did not leak.\n",
      " WARNING: After particle 506 crossed surface 188 it could not be located in any\n",
      "          cell and it did not leak.\n",
      " ERROR: Maximum number of lost particles has been reached.\n",
      "--------------------------------------------------------------------------\n",
      "MPI_ABORT was invoked on rank 0 in communicator MPI_COMM_WORLD\n",
      "  Proc: [[22723,0],0]\n",
      "  Errorcode: -1\n",
      "\n",
      "NOTE: invoking MPI_ABORT causes Open MPI to kill all MPI processes.\n",
      "You may or may not see output from other processes, depending on\n",
      "exactly when Open MPI kills them.\n",
      "--------------------------------------------------------------------------\n",
      " ERROR: Maximum number of lost particles has been reached.\n",
      "--------------------------------------------------------------------------\n",
      "MPI_ABORT was invoked on rank 0 in communicator MPI_COMM_WORLD\n",
      "  Proc: [[22723,0],0]\n",
      "  Errorcode: -1\n",
      "\n",
      "NOTE: invoking MPI_ABORT causes Open MPI to kill all MPI processes.\n",
      "You may or may not see output from other processes, depending on\n",
      "exactly when Open MPI kills them.\n",
      "--------------------------------------------------------------------------\n"
     ]
    },
    {
     "ename": "RuntimeError",
     "evalue": "Maximum number of lost particles has been reached. -------------------------------------------------------------------------- MPI_ABORT was invoked on rank 0 in communicator MPI_COMM_WORLD Proc: [[22723,0],0] Errorcode: -1 NOTE: invoking MPI_ABORT causes Open MPI to kill all MPI processes. You may or may not see output from other processes, depending on exactly when Open MPI kills them. -------------------------------------------------------------------------- ERROR: Maximum number of lost particles has been reached. -------------------------------------------------------------------------- MPI_ABORT was invoked on rank 0 in communicator MPI_COMM_WORLD Proc: [[22723,0],0] Errorcode: -1 NOTE: invoking MPI_ABORT causes Open MPI to kill all MPI processes. You may or may not see output from other processes, depending on exactly when Open MPI kills them. --------------------------------------------------------------------------",
     "output_type": "error",
     "traceback": [
      "\u001b[0;31m---------------------------------------------------------------------------\u001b[0m",
      "\u001b[0;31mRuntimeError\u001b[0m                              Traceback (most recent call last)",
      "Cell \u001b[0;32mIn[97], line 1\u001b[0m\n\u001b[0;32m----> 1\u001b[0m \u001b[43mopenmc\u001b[49m\u001b[38;5;241;43m.\u001b[39;49m\u001b[43mrun\u001b[49m\u001b[43m(\u001b[49m\u001b[43m)\u001b[49m\n",
      "File \u001b[0;32m~/miniconda3/envs/openmc-env/lib/python3.12/site-packages/openmc/executor.py:314\u001b[0m, in \u001b[0;36mrun\u001b[0;34m(particles, threads, geometry_debug, restart_file, tracks, output, cwd, openmc_exec, mpi_args, event_based, path_input)\u001b[0m\n\u001b[1;32m    261\u001b[0m \u001b[38;5;250m\u001b[39m\u001b[38;5;124;03m\"\"\"Run an OpenMC simulation.\u001b[39;00m\n\u001b[1;32m    262\u001b[0m \n\u001b[1;32m    263\u001b[0m \u001b[38;5;124;03mParameters\u001b[39;00m\n\u001b[0;32m   (...)\u001b[0m\n\u001b[1;32m    305\u001b[0m \n\u001b[1;32m    306\u001b[0m \u001b[38;5;124;03m\"\"\"\u001b[39;00m\n\u001b[1;32m    308\u001b[0m args \u001b[38;5;241m=\u001b[39m _process_CLI_arguments(\n\u001b[1;32m    309\u001b[0m     volume\u001b[38;5;241m=\u001b[39m\u001b[38;5;28;01mFalse\u001b[39;00m, geometry_debug\u001b[38;5;241m=\u001b[39mgeometry_debug, particles\u001b[38;5;241m=\u001b[39mparticles,\n\u001b[1;32m    310\u001b[0m     restart_file\u001b[38;5;241m=\u001b[39mrestart_file, threads\u001b[38;5;241m=\u001b[39mthreads, tracks\u001b[38;5;241m=\u001b[39mtracks,\n\u001b[1;32m    311\u001b[0m     event_based\u001b[38;5;241m=\u001b[39mevent_based, openmc_exec\u001b[38;5;241m=\u001b[39mopenmc_exec, mpi_args\u001b[38;5;241m=\u001b[39mmpi_args,\n\u001b[1;32m    312\u001b[0m     path_input\u001b[38;5;241m=\u001b[39mpath_input)\n\u001b[0;32m--> 314\u001b[0m \u001b[43m_run\u001b[49m\u001b[43m(\u001b[49m\u001b[43margs\u001b[49m\u001b[43m,\u001b[49m\u001b[43m \u001b[49m\u001b[43moutput\u001b[49m\u001b[43m,\u001b[49m\u001b[43m \u001b[49m\u001b[43mcwd\u001b[49m\u001b[43m)\u001b[49m\n",
      "File \u001b[0;32m~/miniconda3/envs/openmc-env/lib/python3.12/site-packages/openmc/executor.py:125\u001b[0m, in \u001b[0;36m_run\u001b[0;34m(args, output, cwd)\u001b[0m\n\u001b[1;32m    122\u001b[0m     error_msg \u001b[38;5;241m=\u001b[39m \u001b[38;5;124m'\u001b[39m\u001b[38;5;124mOpenMC aborted unexpectedly.\u001b[39m\u001b[38;5;124m'\u001b[39m\n\u001b[1;32m    123\u001b[0m error_msg \u001b[38;5;241m=\u001b[39m \u001b[38;5;124m'\u001b[39m\u001b[38;5;124m \u001b[39m\u001b[38;5;124m'\u001b[39m\u001b[38;5;241m.\u001b[39mjoin(error_msg\u001b[38;5;241m.\u001b[39msplit())\n\u001b[0;32m--> 125\u001b[0m \u001b[38;5;28;01mraise\u001b[39;00m \u001b[38;5;167;01mRuntimeError\u001b[39;00m(error_msg)\n",
      "\u001b[0;31mRuntimeError\u001b[0m: Maximum number of lost particles has been reached. -------------------------------------------------------------------------- MPI_ABORT was invoked on rank 0 in communicator MPI_COMM_WORLD Proc: [[22723,0],0] Errorcode: -1 NOTE: invoking MPI_ABORT causes Open MPI to kill all MPI processes. You may or may not see output from other processes, depending on exactly when Open MPI kills them. -------------------------------------------------------------------------- ERROR: Maximum number of lost particles has been reached. -------------------------------------------------------------------------- MPI_ABORT was invoked on rank 0 in communicator MPI_COMM_WORLD Proc: [[22723,0],0] Errorcode: -1 NOTE: invoking MPI_ABORT causes Open MPI to kill all MPI processes. You may or may not see output from other processes, depending on exactly when Open MPI kills them. --------------------------------------------------------------------------"
     ]
    }
   ],
   "source": [
    "openmc.run()"
   ]
  }
 ],
 "metadata": {
  "accelerator": "GPU",
  "colab": {
   "collapsed_sections": [],
   "name": "thick_thin.IPYNB",
   "provenance": []
  },
  "kernelspec": {
   "display_name": "openmc-env",
   "language": "python",
   "name": "python3"
  },
  "language_info": {
   "codemirror_mode": {
    "name": "ipython",
    "version": 3
   },
   "file_extension": ".py",
   "mimetype": "text/x-python",
   "name": "python",
   "nbconvert_exporter": "python",
   "pygments_lexer": "ipython3",
   "version": "3.12.5"
  }
 },
 "nbformat": 4,
 "nbformat_minor": 4
}
